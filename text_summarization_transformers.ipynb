{
 "cells": [
  {
   "cell_type": "code",
   "execution_count": 1,
   "metadata": {
    "_cell_guid": "b1076dfc-b9ad-4769-8c92-a6c4dae69d19",
    "_uuid": "8f2839f25d086af736a60e9eeb907d3b93b6e0e5",
    "execution": {
     "iopub.execute_input": "2023-07-30T13:13:25.463461Z",
     "iopub.status.busy": "2023-07-30T13:13:25.462342Z",
     "iopub.status.idle": "2023-07-30T13:13:25.485280Z",
     "shell.execute_reply": "2023-07-30T13:13:25.483863Z",
     "shell.execute_reply.started": "2023-07-30T13:13:25.463414Z"
    }
   },
   "outputs": [
    {
     "name": "stdout",
     "output_type": "stream",
     "text": [
      "/kaggle/input/amazon-fine-food-reviews/hashes.txt\n",
      "/kaggle/input/amazon-fine-food-reviews/Reviews.csv\n",
      "/kaggle/input/amazon-fine-food-reviews/database.sqlite\n"
     ]
    }
   ],
   "source": [
    "# This Python 3 environment comes with many helpful analytics libraries installed\n",
    "# It is defined by the kaggle/python Docker image: https://github.com/kaggle/docker-python\n",
    "# For example, here's several helpful packages to load\n",
    "\n",
    "import numpy as np # linear algebra\n",
    "import pandas as pd # data processing, CSV file I/O (e.g. pd.read_csv)\n",
    "\n",
    "# Input data files are available in the read-only \"../input/\" directory\n",
    "# For example, running this (by clicking run or pressing Shift+Enter) will list all files under the input directory\n",
    "\n",
    "import os\n",
    "for dirname, _, filenames in os.walk('/kaggle/input'):\n",
    "    for filename in filenames:\n",
    "        print(os.path.join(dirname, filename))\n",
    "\n",
    "# You can write up to 20GB to the current directory (/kaggle/working/) that gets preserved as output when you create a version using \"Save & Run All\" \n",
    "# You can also write temporary files to /kaggle/temp/, but they won't be saved outside of the current session"
   ]
  },
  {
   "cell_type": "code",
   "execution_count": 2,
   "metadata": {
    "execution": {
     "iopub.execute_input": "2023-07-30T13:13:27.171348Z",
     "iopub.status.busy": "2023-07-30T13:13:27.170970Z",
     "iopub.status.idle": "2023-07-30T13:13:36.556435Z",
     "shell.execute_reply": "2023-07-30T13:13:36.555201Z",
     "shell.execute_reply.started": "2023-07-30T13:13:27.171314Z"
    }
   },
   "outputs": [
    {
     "name": "stderr",
     "output_type": "stream",
     "text": [
      "/opt/conda/lib/python3.10/site-packages/scipy/__init__.py:146: UserWarning: A NumPy version >=1.16.5 and <1.23.0 is required for this version of SciPy (detected version 1.23.5\n",
      "  warnings.warn(f\"A NumPy version >={np_minversion} and <{np_maxversion}\"\n",
      "/opt/conda/lib/python3.10/site-packages/tensorflow_io/python/ops/__init__.py:98: UserWarning: unable to load libtensorflow_io_plugins.so: unable to open file: libtensorflow_io_plugins.so, from paths: ['/opt/conda/lib/python3.10/site-packages/tensorflow_io/python/ops/libtensorflow_io_plugins.so']\n",
      "caused by: ['/opt/conda/lib/python3.10/site-packages/tensorflow_io/python/ops/libtensorflow_io_plugins.so: undefined symbol: _ZN3tsl6StatusC1EN10tensorflow5error4CodeESt17basic_string_viewIcSt11char_traitsIcEENS_14SourceLocationE']\n",
      "  warnings.warn(f\"unable to load libtensorflow_io_plugins.so: {e}\")\n",
      "/opt/conda/lib/python3.10/site-packages/tensorflow_io/python/ops/__init__.py:104: UserWarning: file system plugins are not loaded: unable to open file: libtensorflow_io.so, from paths: ['/opt/conda/lib/python3.10/site-packages/tensorflow_io/python/ops/libtensorflow_io.so']\n",
      "caused by: ['/opt/conda/lib/python3.10/site-packages/tensorflow_io/python/ops/libtensorflow_io.so: undefined symbol: _ZTVN10tensorflow13GcsFileSystemE']\n",
      "  warnings.warn(f\"file system plugins are not loaded: {e}\")\n"
     ]
    }
   ],
   "source": [
    "import numpy as np\n",
    "import pandas as pd\n",
    "import re\n",
    "import nltk\n",
    "from nltk.corpus import stopwords\n",
    "from nltk.stem.snowball import SnowballStemmer\n",
    "import tensorflow as tf\n",
    "from tensorflow.keras.preprocessing.text import Tokenizer\n",
    "from tensorflow.keras.preprocessing.sequence import pad_sequences\n",
    "from tensorflow.keras.models import Sequential, Model\n",
    "from tensorflow.keras.layers import Dense,Dropout,Input,LSTM,BatchNormalization\n",
    "from tensorflow.keras.layers import Flatten\n",
    "from tensorflow.keras.layers import Embedding\n",
    "from tensorflow.keras.layers import concatenate\n",
    "from tensorflow.keras.utils import to_categorical\n",
    "from tensorflow.keras.optimizers import Adam\n",
    "from tensorflow.keras.callbacks import EarlyStopping\n",
    "from tensorflow.keras.initializers import TruncatedNormal\n",
    "from tensorflow.keras.losses import CategoricalCrossentropy\n",
    "from tensorflow.keras.metrics import CategoricalAccuracy\n",
    "from tensorflow.keras.layers import Bidirectional\n",
    "\n",
    "import warnings\n",
    "warnings.filterwarnings(\"ignore\")"
   ]
  },
  {
   "cell_type": "code",
   "execution_count": 3,
   "metadata": {
    "execution": {
     "iopub.execute_input": "2023-07-30T13:13:52.511805Z",
     "iopub.status.busy": "2023-07-30T13:13:52.511003Z",
     "iopub.status.idle": "2023-07-30T13:13:52.690055Z",
     "shell.execute_reply": "2023-07-30T13:13:52.689125Z",
     "shell.execute_reply.started": "2023-07-30T13:13:52.511771Z"
    }
   },
   "outputs": [],
   "source": [
    "from tensorflow.keras.layers import Attention\n",
    "from bs4 import BeautifulSoup"
   ]
  },
  {
   "cell_type": "code",
   "execution_count": 4,
   "metadata": {
    "execution": {
     "iopub.execute_input": "2023-07-30T13:13:58.123852Z",
     "iopub.status.busy": "2023-07-30T13:13:58.122659Z",
     "iopub.status.idle": "2023-07-30T13:13:58.211903Z",
     "shell.execute_reply": "2023-07-30T13:13:58.210740Z",
     "shell.execute_reply.started": "2023-07-30T13:13:58.123816Z"
    }
   },
   "outputs": [
    {
     "data": {
      "text/plain": [
       "(5000, 10)"
      ]
     },
     "execution_count": 4,
     "metadata": {},
     "output_type": "execute_result"
    }
   ],
   "source": [
    "df = pd.read_csv('/kaggle/input/amazon-fine-food-reviews/Reviews.csv', delimiter=',',nrows=5000)\n",
    "df.shape"
   ]
  },
  {
   "cell_type": "code",
   "execution_count": 5,
   "metadata": {
    "execution": {
     "iopub.execute_input": "2023-07-30T13:15:23.627405Z",
     "iopub.status.busy": "2023-07-30T13:15:23.627017Z",
     "iopub.status.idle": "2023-07-30T13:15:23.649437Z",
     "shell.execute_reply": "2023-07-30T13:15:23.648397Z",
     "shell.execute_reply.started": "2023-07-30T13:15:23.627376Z"
    }
   },
   "outputs": [
    {
     "data": {
      "text/html": [
       "<div>\n",
       "<style scoped>\n",
       "    .dataframe tbody tr th:only-of-type {\n",
       "        vertical-align: middle;\n",
       "    }\n",
       "\n",
       "    .dataframe tbody tr th {\n",
       "        vertical-align: top;\n",
       "    }\n",
       "\n",
       "    .dataframe thead th {\n",
       "        text-align: right;\n",
       "    }\n",
       "</style>\n",
       "<table border=\"1\" class=\"dataframe\">\n",
       "  <thead>\n",
       "    <tr style=\"text-align: right;\">\n",
       "      <th></th>\n",
       "      <th>Id</th>\n",
       "      <th>ProductId</th>\n",
       "      <th>UserId</th>\n",
       "      <th>ProfileName</th>\n",
       "      <th>HelpfulnessNumerator</th>\n",
       "      <th>HelpfulnessDenominator</th>\n",
       "      <th>Score</th>\n",
       "      <th>Time</th>\n",
       "      <th>Summary</th>\n",
       "      <th>Text</th>\n",
       "    </tr>\n",
       "  </thead>\n",
       "  <tbody>\n",
       "    <tr>\n",
       "      <th>0</th>\n",
       "      <td>1</td>\n",
       "      <td>B001E4KFG0</td>\n",
       "      <td>A3SGXH7AUHU8GW</td>\n",
       "      <td>delmartian</td>\n",
       "      <td>1</td>\n",
       "      <td>1</td>\n",
       "      <td>5</td>\n",
       "      <td>1303862400</td>\n",
       "      <td>Good Quality Dog Food</td>\n",
       "      <td>I have bought several of the Vitality canned d...</td>\n",
       "    </tr>\n",
       "    <tr>\n",
       "      <th>1</th>\n",
       "      <td>2</td>\n",
       "      <td>B00813GRG4</td>\n",
       "      <td>A1D87F6ZCVE5NK</td>\n",
       "      <td>dll pa</td>\n",
       "      <td>0</td>\n",
       "      <td>0</td>\n",
       "      <td>1</td>\n",
       "      <td>1346976000</td>\n",
       "      <td>Not as Advertised</td>\n",
       "      <td>Product arrived labeled as Jumbo Salted Peanut...</td>\n",
       "    </tr>\n",
       "    <tr>\n",
       "      <th>2</th>\n",
       "      <td>3</td>\n",
       "      <td>B000LQOCH0</td>\n",
       "      <td>ABXLMWJIXXAIN</td>\n",
       "      <td>Natalia Corres \"Natalia Corres\"</td>\n",
       "      <td>1</td>\n",
       "      <td>1</td>\n",
       "      <td>4</td>\n",
       "      <td>1219017600</td>\n",
       "      <td>\"Delight\" says it all</td>\n",
       "      <td>This is a confection that has been around a fe...</td>\n",
       "    </tr>\n",
       "    <tr>\n",
       "      <th>3</th>\n",
       "      <td>4</td>\n",
       "      <td>B000UA0QIQ</td>\n",
       "      <td>A395BORC6FGVXV</td>\n",
       "      <td>Karl</td>\n",
       "      <td>3</td>\n",
       "      <td>3</td>\n",
       "      <td>2</td>\n",
       "      <td>1307923200</td>\n",
       "      <td>Cough Medicine</td>\n",
       "      <td>If you are looking for the secret ingredient i...</td>\n",
       "    </tr>\n",
       "    <tr>\n",
       "      <th>4</th>\n",
       "      <td>5</td>\n",
       "      <td>B006K2ZZ7K</td>\n",
       "      <td>A1UQRSCLF8GW1T</td>\n",
       "      <td>Michael D. Bigham \"M. Wassir\"</td>\n",
       "      <td>0</td>\n",
       "      <td>0</td>\n",
       "      <td>5</td>\n",
       "      <td>1350777600</td>\n",
       "      <td>Great taffy</td>\n",
       "      <td>Great taffy at a great price.  There was a wid...</td>\n",
       "    </tr>\n",
       "  </tbody>\n",
       "</table>\n",
       "</div>"
      ],
      "text/plain": [
       "   Id   ProductId          UserId                      ProfileName  \\\n",
       "0   1  B001E4KFG0  A3SGXH7AUHU8GW                       delmartian   \n",
       "1   2  B00813GRG4  A1D87F6ZCVE5NK                           dll pa   \n",
       "2   3  B000LQOCH0   ABXLMWJIXXAIN  Natalia Corres \"Natalia Corres\"   \n",
       "3   4  B000UA0QIQ  A395BORC6FGVXV                             Karl   \n",
       "4   5  B006K2ZZ7K  A1UQRSCLF8GW1T    Michael D. Bigham \"M. Wassir\"   \n",
       "\n",
       "   HelpfulnessNumerator  HelpfulnessDenominator  Score        Time  \\\n",
       "0                     1                       1      5  1303862400   \n",
       "1                     0                       0      1  1346976000   \n",
       "2                     1                       1      4  1219017600   \n",
       "3                     3                       3      2  1307923200   \n",
       "4                     0                       0      5  1350777600   \n",
       "\n",
       "                 Summary                                               Text  \n",
       "0  Good Quality Dog Food  I have bought several of the Vitality canned d...  \n",
       "1      Not as Advertised  Product arrived labeled as Jumbo Salted Peanut...  \n",
       "2  \"Delight\" says it all  This is a confection that has been around a fe...  \n",
       "3         Cough Medicine  If you are looking for the secret ingredient i...  \n",
       "4            Great taffy  Great taffy at a great price.  There was a wid...  "
      ]
     },
     "execution_count": 5,
     "metadata": {},
     "output_type": "execute_result"
    }
   ],
   "source": [
    "df.head()"
   ]
  },
  {
   "cell_type": "code",
   "execution_count": 11,
   "metadata": {
    "execution": {
     "iopub.execute_input": "2023-07-30T13:32:05.432594Z",
     "iopub.status.busy": "2023-07-30T13:32:05.432205Z",
     "iopub.status.idle": "2023-07-30T13:32:05.438015Z",
     "shell.execute_reply": "2023-07-30T13:32:05.437075Z",
     "shell.execute_reply.started": "2023-07-30T13:32:05.432549Z"
    }
   },
   "outputs": [
    {
     "name": "stdout",
     "output_type": "stream",
     "text": [
      "I have bought several of the Vitality canned dog food products and have found them all to be of good quality. The product looks more like a stew than a processed meat and it smells better. My Labrador is finicky and she appreciates this product better than  most.\n",
      "\n",
      "Good Quality Dog Food\n"
     ]
    }
   ],
   "source": [
    "# Printing first example\n",
    "print(df['Text'][0])\n",
    "print()\n",
    "print(df['Summary'][0])"
   ]
  },
  {
   "cell_type": "markdown",
   "metadata": {},
   "source": [
    "## Dropping duplicate and NaN values"
   ]
  },
  {
   "cell_type": "code",
   "execution_count": 12,
   "metadata": {
    "execution": {
     "iopub.execute_input": "2023-07-30T13:32:07.366959Z",
     "iopub.status.busy": "2023-07-30T13:32:07.366580Z",
     "iopub.status.idle": "2023-07-30T13:32:07.389743Z",
     "shell.execute_reply": "2023-07-30T13:32:07.388833Z",
     "shell.execute_reply.started": "2023-07-30T13:32:07.366929Z"
    }
   },
   "outputs": [],
   "source": [
    "df.dropna(axis=0,inplace=True)\n",
    "df.drop_duplicates(subset=['Text'],inplace=True)"
   ]
  },
  {
   "cell_type": "markdown",
   "metadata": {},
   "source": [
    "## Preprocessing"
   ]
  },
  {
   "cell_type": "code",
   "execution_count": 13,
   "metadata": {
    "execution": {
     "iopub.execute_input": "2023-07-30T13:32:08.005024Z",
     "iopub.status.busy": "2023-07-30T13:32:08.004267Z",
     "iopub.status.idle": "2023-07-30T13:32:08.019910Z",
     "shell.execute_reply": "2023-07-30T13:32:08.018752Z",
     "shell.execute_reply.started": "2023-07-30T13:32:08.004990Z"
    }
   },
   "outputs": [],
   "source": [
    "astrophe_words = {\"ain't\": \"is not\", \"aren't\": \"are not\",\"can't\": \"cannot\", \"'cause\": \"because\", \"could've\": \"could have\", \"couldn't\": \"could not\",\n",
    "\n",
    "                           \"didn't\": \"did not\", \"doesn't\": \"does not\", \"don't\": \"do not\", \"hadn't\": \"had not\", \"hasn't\": \"has not\", \"haven't\": \"have not\",\n",
    "\n",
    "                           \"he'd\": \"he would\",\"he'll\": \"he will\", \"he's\": \"he is\", \"how'd\": \"how did\", \"how'd'y\": \"how do you\", \"how'll\": \"how will\", \"how's\": \"how is\",\n",
    "\n",
    "                           \"I'd\": \"I would\", \"I'd've\": \"I would have\", \"I'll\": \"I will\", \"I'll've\": \"I will have\",\"I'm\": \"I am\", \"I've\": \"I have\", \"i'd\": \"i would\",\n",
    "\n",
    "                           \"i'd've\": \"i would have\", \"i'll\": \"i will\",  \"i'll've\": \"i will have\",\"i'm\": \"i am\", \"i've\": \"i have\", \"isn't\": \"is not\", \"it'd\": \"it would\",\n",
    "\n",
    "                           \"it'd've\": \"it would have\", \"it'll\": \"it will\", \"it'll've\": \"it will have\",\"it's\": \"it is\", \"let's\": \"let us\", \"ma'am\": \"madam\",\n",
    "\n",
    "                           \"mayn't\": \"may not\", \"might've\": \"might have\",\"mightn't\": \"might not\",\"mightn't've\": \"might not have\", \"must've\": \"must have\",\n",
    "\n",
    "                           \"mustn't\": \"must not\", \"mustn't've\": \"must not have\", \"needn't\": \"need not\", \"needn't've\": \"need not have\",\"o'clock\": \"of the clock\",\n",
    "\n",
    "                           \"oughtn't\": \"ought not\", \"oughtn't've\": \"ought not have\", \"shan't\": \"shall not\", \"sha'n't\": \"shall not\", \"shan't've\": \"shall not have\",\n",
    "\n",
    "                           \"she'd\": \"she would\", \"she'd've\": \"she would have\", \"she'll\": \"she will\", \"she'll've\": \"she will have\", \"she's\": \"she is\",\n",
    "\n",
    "                           \"should've\": \"should have\", \"shouldn't\": \"should not\", \"shouldn't've\": \"should not have\", \"so've\": \"so have\",\"so's\": \"so as\",\n",
    "\n",
    "                           \"this's\": \"this is\",\"that'd\": \"that would\", \"that'd've\": \"that would have\", \"that's\": \"that is\", \"there'd\": \"there would\",\n",
    "\n",
    "                           \"there'd've\": \"there would have\", \"there's\": \"there is\", \"here's\": \"here is\",\"they'd\": \"they would\", \"they'd've\": \"they would have\",\n",
    "\n",
    "                           \"they'll\": \"they will\", \"they'll've\": \"they will have\", \"they're\": \"they are\", \"they've\": \"they have\", \"to've\": \"to have\",\n",
    "\n",
    "                           \"wasn't\": \"was not\", \"we'd\": \"we would\", \"we'd've\": \"we would have\", \"we'll\": \"we will\", \"we'll've\": \"we will have\", \"we're\": \"we are\",\n",
    "\n",
    "                           \"we've\": \"we have\", \"weren't\": \"were not\", \"what'll\": \"what will\", \"what'll've\": \"what will have\", \"what're\": \"what are\",\n",
    "\n",
    "                           \"what's\": \"what is\", \"what've\": \"what have\", \"when's\": \"when is\", \"when've\": \"when have\", \"where'd\": \"where did\", \"where's\": \"where is\",\n",
    "\n",
    "                           \"where've\": \"where have\", \"who'll\": \"who will\", \"who'll've\": \"who will have\", \"who's\": \"who is\", \"who've\": \"who have\",\n",
    "\n",
    "                           \"why's\": \"why is\", \"why've\": \"why have\", \"will've\": \"will have\", \"won't\": \"will not\", \"won't've\": \"will not have\",\n",
    "\n",
    "                           \"would've\": \"would have\", \"wouldn't\": \"would not\", \"wouldn't've\": \"would not have\", \"y'all\": \"you all\",\n",
    "\n",
    "                           \"y'all'd\": \"you all would\",\"y'all'd've\": \"you all would have\",\"y'all're\": \"you all are\",\"y'all've\": \"you all have\",\n",
    "\n",
    "                           \"you'd\": \"you would\", \"you'd've\": \"you would have\", \"you'll\": \"you will\", \"you'll've\": \"you will have\",\n",
    "\n",
    "                           \"you're\": \"you are\", \"you've\": \"you have\"}"
   ]
  },
  {
   "cell_type": "code",
   "execution_count": 14,
   "metadata": {
    "execution": {
     "iopub.execute_input": "2023-07-30T13:32:08.364212Z",
     "iopub.status.busy": "2023-07-30T13:32:08.363562Z",
     "iopub.status.idle": "2023-07-30T13:32:08.370944Z",
     "shell.execute_reply": "2023-07-30T13:32:08.369653Z",
     "shell.execute_reply.started": "2023-07-30T13:32:08.364181Z"
    }
   },
   "outputs": [],
   "source": [
    "def astrophe_preprocess(text):\n",
    "    l = []\n",
    "    for txt in text.split(\" \"):\n",
    "        if txt in set(astrophe_words.keys()):\n",
    "            l.append(astrophe_words[txt])\n",
    "        \n",
    "        else:\n",
    "            l.append(txt)\n",
    "    \n",
    "    out = \" \".join(l)\n",
    "    return out"
   ]
  },
  {
   "cell_type": "code",
   "execution_count": 15,
   "metadata": {
    "execution": {
     "iopub.execute_input": "2023-07-30T13:32:08.761974Z",
     "iopub.status.busy": "2023-07-30T13:32:08.761644Z",
     "iopub.status.idle": "2023-07-30T13:32:08.768486Z",
     "shell.execute_reply": "2023-07-30T13:32:08.767481Z",
     "shell.execute_reply.started": "2023-07-30T13:32:08.761946Z"
    }
   },
   "outputs": [
    {
     "data": {
      "text/plain": [
       "4984"
      ]
     },
     "execution_count": 15,
     "metadata": {},
     "output_type": "execute_result"
    }
   ],
   "source": [
    "len(df['Text'])"
   ]
  },
  {
   "cell_type": "code",
   "execution_count": 16,
   "metadata": {
    "execution": {
     "iopub.execute_input": "2023-07-30T13:32:09.162055Z",
     "iopub.status.busy": "2023-07-30T13:32:09.161297Z",
     "iopub.status.idle": "2023-07-30T13:32:09.169439Z",
     "shell.execute_reply": "2023-07-30T13:32:09.168265Z",
     "shell.execute_reply.started": "2023-07-30T13:32:09.162017Z"
    }
   },
   "outputs": [
    {
     "name": "stdout",
     "output_type": "stream",
     "text": [
      "10\n",
      "True\n"
     ]
    }
   ],
   "source": [
    "# Code to check if HTML tags are present or not\n",
    "def has_html_tags(text):\n",
    "    # Regular expression pattern to match HTML tags\n",
    "    html_tag_pattern = r'<[^>]+>'\n",
    "    \n",
    "    for i in range(len(text)):\n",
    "        # Search for the first occurrence of an HTML tag in the text\n",
    "        match = re.search(html_tag_pattern, text[i])\n",
    "        \n",
    "        if match is not None:\n",
    "            print(i)\n",
    "            return True\n",
    "    \n",
    "    return False\n",
    "\n",
    "print(has_html_tags(text = df['Text']))"
   ]
  },
  {
   "cell_type": "code",
   "execution_count": 17,
   "metadata": {
    "execution": {
     "iopub.execute_input": "2023-07-30T13:32:09.623074Z",
     "iopub.status.busy": "2023-07-30T13:32:09.622243Z",
     "iopub.status.idle": "2023-07-30T13:32:09.629792Z",
     "shell.execute_reply": "2023-07-30T13:32:09.628757Z",
     "shell.execute_reply.started": "2023-07-30T13:32:09.623033Z"
    }
   },
   "outputs": [
    {
     "data": {
      "text/plain": [
       "\"I don't know if it's the cactus or the tequila or just the unique combination of ingredients, but the flavour of this hot sauce makes it one of a kind!  We picked up a bottle once on a trip we were on and brought it back home with us and were totally blown away!  When we realized that we simply couldn't find it anywhere in our city we were bummed.<br /><br />Now, because of the magic of the internet, we have a case of the sauce and are ecstatic because of it.<br /><br />If you love hot sauce..I mean really love hot sauce, but don't want a sauce that tastelessly burns your throat, grab a bottle of Tequila Picante Gourmet de Inclan.  Just realize that once you taste it, you will never want to use any other sauce.<br /><br />Thank you for the personal, incredible service!\""
      ]
     },
     "execution_count": 17,
     "metadata": {},
     "output_type": "execute_result"
    }
   ],
   "source": [
    "df['Text'][10]"
   ]
  },
  {
   "cell_type": "code",
   "execution_count": 18,
   "metadata": {
    "execution": {
     "iopub.execute_input": "2023-07-30T13:32:09.982100Z",
     "iopub.status.busy": "2023-07-30T13:32:09.981468Z",
     "iopub.status.idle": "2023-07-30T13:32:09.992801Z",
     "shell.execute_reply": "2023-07-30T13:32:09.991859Z",
     "shell.execute_reply.started": "2023-07-30T13:32:09.982059Z"
    }
   },
   "outputs": [
    {
     "data": {
      "text/plain": [
       "\"I don't know if it's the cactus or the tequila or just the unique combination of ingredients, but the flavour of this hot sauce makes it one of a kind!  We picked up a bottle once on a trip we were on and brought it back home with us and were totally blown away!  When we realized that we simply couldn't find it anywhere in our city we were bummed.Now, because of the magic of the internet, we have a case of the sauce and are ecstatic because of it.If you love hot sauce..I mean really love hot sauce, but don't want a sauce that tastelessly burns your throat, grab a bottle of Tequila Picante Gourmet de Inclan.  Just realize that once you taste it, you will never want to use any other sauce.Thank you for the personal, incredible service!\""
      ]
     },
     "execution_count": 18,
     "metadata": {},
     "output_type": "execute_result"
    }
   ],
   "source": [
    "out = BeautifulSoup(df['Text'][10], \"lxml\").text\n",
    "out"
   ]
  },
  {
   "cell_type": "code",
   "execution_count": 19,
   "metadata": {
    "execution": {
     "iopub.execute_input": "2023-07-30T13:32:10.367906Z",
     "iopub.status.busy": "2023-07-30T13:32:10.367219Z",
     "iopub.status.idle": "2023-07-30T13:32:10.374734Z",
     "shell.execute_reply": "2023-07-30T13:32:10.373648Z",
     "shell.execute_reply.started": "2023-07-30T13:32:10.367869Z"
    }
   },
   "outputs": [],
   "source": [
    "def text_preprocess(text):\n",
    "    t = text.lower()\n",
    "    # Getting text from HTML tags\n",
    "    t = BeautifulSoup(t, \"lxml\").text\n",
    "    \n",
    "    # Remove all text within parenthesis\n",
    "    t = re.sub(r'\\([^)]*\\)', '', t)\n",
    "    \n",
    "    # Remove \" \n",
    "    t = re.sub('\"','',t)\n",
    "    \n",
    "    # Change astrophe words\n",
    "    t = astrophe_preprocess(t) \n",
    "    \n",
    "    # Remove 's\n",
    "    t = re.sub(r\"'s\\b\",\"\",t)\n",
    "    \n",
    "    # Replacing all non-alphabetic characters\n",
    "    t = re.sub(\"[^a-zA-Z]\", \" \", t) \n",
    "    \n",
    "    return t.strip()"
   ]
  },
  {
   "cell_type": "code",
   "execution_count": 20,
   "metadata": {
    "execution": {
     "iopub.execute_input": "2023-07-30T13:32:10.841126Z",
     "iopub.status.busy": "2023-07-30T13:32:10.840757Z",
     "iopub.status.idle": "2023-07-30T13:32:13.748090Z",
     "shell.execute_reply": "2023-07-30T13:32:13.747089Z",
     "shell.execute_reply.started": "2023-07-30T13:32:10.841093Z"
    }
   },
   "outputs": [],
   "source": [
    "cleaned_text = []\n",
    "for txt in df['Text']:\n",
    "    cleaned_text.append(text_preprocess(txt))"
   ]
  },
  {
   "cell_type": "code",
   "execution_count": 21,
   "metadata": {
    "execution": {
     "iopub.execute_input": "2023-07-30T13:32:13.750514Z",
     "iopub.status.busy": "2023-07-30T13:32:13.750143Z",
     "iopub.status.idle": "2023-07-30T13:32:13.760750Z",
     "shell.execute_reply": "2023-07-30T13:32:13.759625Z",
     "shell.execute_reply.started": "2023-07-30T13:32:13.750480Z"
    }
   },
   "outputs": [
    {
     "data": {
      "text/plain": [
       "'i do not know if it is the cactus or the tequila or just the unique combination of ingredients  but the flavour of this hot sauce makes it one of a kind   we picked up a bottle once on a trip we were on and brought it back home with us and were totally blown away   when we realized that we simply could not find it anywhere in our city we were bummed now  because of the magic of the internet  we have a case of the sauce and are ecstatic because of it if you love hot sauce  i mean really love hot sauce  but do not want a sauce that tastelessly burns your throat  grab a bottle of tequila picante gourmet de inclan   just realize that once you taste it  you will never want to use any other sauce thank you for the personal  incredible service'"
      ]
     },
     "execution_count": 21,
     "metadata": {},
     "output_type": "execute_result"
    }
   ],
   "source": [
    "cleaned_text[10]"
   ]
  },
  {
   "cell_type": "code",
   "execution_count": 22,
   "metadata": {
    "execution": {
     "iopub.execute_input": "2023-07-30T13:32:13.763418Z",
     "iopub.status.busy": "2023-07-30T13:32:13.762232Z",
     "iopub.status.idle": "2023-07-30T13:32:21.641011Z",
     "shell.execute_reply": "2023-07-30T13:32:21.640023Z",
     "shell.execute_reply.started": "2023-07-30T13:32:13.763385Z"
    }
   },
   "outputs": [
    {
     "name": "stdout",
     "output_type": "stream",
     "text": [
      "the quick brown fox be jump over the lazy dog\n"
     ]
    }
   ],
   "source": [
    "import spacy\n",
    "\n",
    "# Load the English language model for spaCy\n",
    "nlp = spacy.load(\"en_core_web_sm\")\n",
    "\n",
    "def lemmatize_sentence(sentence):\n",
    "    # Process the sentence using spaCy\n",
    "    doc = nlp(sentence)\n",
    "    \n",
    "    # Lemmatize each word in the sentence and join them back\n",
    "    lemmatized_sentence = ' '.join(token.lemma_ for token in doc)\n",
    "    \n",
    "    return lemmatized_sentence\n",
    "\n",
    "# Example\n",
    "sentence = \"The quick brown foxes are jumping over the lazy dogs\"\n",
    "lemmatized_sentence = lemmatize_sentence(sentence)\n",
    "print(lemmatized_sentence)"
   ]
  },
  {
   "cell_type": "code",
   "execution_count": 23,
   "metadata": {
    "execution": {
     "iopub.execute_input": "2023-07-30T13:32:21.648971Z",
     "iopub.status.busy": "2023-07-30T13:32:21.646183Z",
     "iopub.status.idle": "2023-07-30T13:33:50.474753Z",
     "shell.execute_reply": "2023-07-30T13:33:50.473747Z",
     "shell.execute_reply.started": "2023-07-30T13:32:21.648931Z"
    }
   },
   "outputs": [],
   "source": [
    "final_text = []\n",
    "for txt in cleaned_text:\n",
    "    final_text.append(lemmatize_sentence(txt))"
   ]
  },
  {
   "cell_type": "code",
   "execution_count": 24,
   "metadata": {
    "execution": {
     "iopub.execute_input": "2023-07-30T13:33:53.792365Z",
     "iopub.status.busy": "2023-07-30T13:33:53.791999Z",
     "iopub.status.idle": "2023-07-30T13:33:53.799811Z",
     "shell.execute_reply": "2023-07-30T13:33:53.798284Z",
     "shell.execute_reply.started": "2023-07-30T13:33:53.792333Z"
    }
   },
   "outputs": [
    {
     "data": {
      "text/plain": [
       "4984"
      ]
     },
     "execution_count": 24,
     "metadata": {},
     "output_type": "execute_result"
    }
   ],
   "source": [
    "len(final_text)"
   ]
  },
  {
   "cell_type": "markdown",
   "metadata": {},
   "source": [
    "### Summary Preprocessing"
   ]
  },
  {
   "cell_type": "code",
   "execution_count": 25,
   "metadata": {
    "execution": {
     "iopub.execute_input": "2023-07-30T13:33:59.731928Z",
     "iopub.status.busy": "2023-07-30T13:33:59.731526Z",
     "iopub.status.idle": "2023-07-30T13:33:59.739908Z",
     "shell.execute_reply": "2023-07-30T13:33:59.738797Z",
     "shell.execute_reply.started": "2023-07-30T13:33:59.731896Z"
    }
   },
   "outputs": [
    {
     "data": {
      "text/plain": [
       "0                            Good Quality Dog Food\n",
       "1                                Not as Advertised\n",
       "2                            \"Delight\" says it all\n",
       "3                                   Cough Medicine\n",
       "4                                      Great taffy\n",
       "5                                       Nice Taffy\n",
       "6    Great!  Just as good as the expensive brands!\n",
       "7                           Wonderful, tasty taffy\n",
       "8                                       Yay Barley\n",
       "9                                 Healthy Dog Food\n",
       "Name: Summary, dtype: object"
      ]
     },
     "execution_count": 25,
     "metadata": {},
     "output_type": "execute_result"
    }
   ],
   "source": [
    "df['Summary'][:10]"
   ]
  },
  {
   "cell_type": "code",
   "execution_count": 26,
   "metadata": {
    "execution": {
     "iopub.execute_input": "2023-07-30T13:34:01.212513Z",
     "iopub.status.busy": "2023-07-30T13:34:01.212161Z",
     "iopub.status.idle": "2023-07-30T13:34:01.357497Z",
     "shell.execute_reply": "2023-07-30T13:34:01.356626Z",
     "shell.execute_reply.started": "2023-07-30T13:34:01.212485Z"
    }
   },
   "outputs": [],
   "source": [
    "def summary_cleaner(text):\n",
    "    t = re.sub('\"','', text)\n",
    "    t = astrophe_preprocess(t)    \n",
    "    t = re.sub(r\"'s\\b\",\"\",t)\n",
    "    t = re.sub(\"[^a-zA-Z]\", \" \", t)\n",
    "    t = t.lower()\n",
    "    t = t.split()\n",
    "    \n",
    "    newString=''\n",
    "    \n",
    "    for i in t:\n",
    "        if len(i)>1:                                 \n",
    "            newString=newString+i+' '  \n",
    "    \n",
    "    return newString\n",
    "\n",
    "#Call the above function\n",
    "cleaned_summary = []\n",
    "for t in df['Summary']:\n",
    "    cleaned_summary.append(summary_cleaner(t))"
   ]
  },
  {
   "cell_type": "code",
   "execution_count": 27,
   "metadata": {
    "execution": {
     "iopub.execute_input": "2023-07-30T13:34:02.749475Z",
     "iopub.status.busy": "2023-07-30T13:34:02.749063Z",
     "iopub.status.idle": "2023-07-30T13:34:02.773625Z",
     "shell.execute_reply": "2023-07-30T13:34:02.772387Z",
     "shell.execute_reply.started": "2023-07-30T13:34:02.749446Z"
    }
   },
   "outputs": [],
   "source": [
    "df['cleaned_text']= final_text\n",
    "df['cleaned_summary']=cleaned_summary\n",
    "df['cleaned_summary'].replace('', np.nan, inplace=True)\n",
    "df.dropna(axis=0,inplace=True)"
   ]
  },
  {
   "cell_type": "code",
   "execution_count": 28,
   "metadata": {
    "execution": {
     "iopub.execute_input": "2023-07-30T13:34:03.845121Z",
     "iopub.status.busy": "2023-07-30T13:34:03.843796Z",
     "iopub.status.idle": "2023-07-30T13:34:03.856881Z",
     "shell.execute_reply": "2023-07-30T13:34:03.855789Z",
     "shell.execute_reply.started": "2023-07-30T13:34:03.845083Z"
    }
   },
   "outputs": [],
   "source": [
    "df['cleaned_summary'] = df['cleaned_summary'].apply(lambda x : '_START_ '+ x + ' _END_')"
   ]
  },
  {
   "cell_type": "code",
   "execution_count": 29,
   "metadata": {
    "execution": {
     "iopub.execute_input": "2023-07-30T13:34:04.310058Z",
     "iopub.status.busy": "2023-07-30T13:34:04.309712Z",
     "iopub.status.idle": "2023-07-30T13:34:04.316424Z",
     "shell.execute_reply": "2023-07-30T13:34:04.315498Z",
     "shell.execute_reply.started": "2023-07-30T13:34:04.310030Z"
    }
   },
   "outputs": [
    {
     "name": "stdout",
     "output_type": "stream",
     "text": [
      "Review: I have buy several of the vitality can dog food product and have find they all to be of good quality   the product look more like a stew than a process meat and it smell well   my labrador be finicky and she appreciate this product well than   most\n",
      "Summary: _START_ good quality dog food  _END_\n",
      "\n",
      "Review: product arrive label as jumbo salt peanut    the peanut be actually small sized unsalted   not sure if this be an error or if the vendor intend to represent the product as jumbo\n",
      "Summary: _START_ not as advertised  _END_\n",
      "\n",
      "Review: this be a confection that have be around a few century    it be a light   pillowy citrus gelatin with nut    in this case filbert   and it be cut into tiny square and then liberally coat with powdered sugar    and it be a tiny mouthful of heaven    not too chewy   and very flavorful    I highly recommend this yummy treat    if you be familiar with the story of c s   lewis   the lion   the witch   and the wardrobe    this be the treat that seduce edmund into sell out his brother and sister to the witch\n",
      "Summary: _START_ delight says it all  _END_\n",
      "\n",
      "Review: if you be look for the secret ingredient in robitussin I believe I have find it    I get this in addition to the root beer extract I order   and make some cherry soda    the flavor be very medicinal\n",
      "Summary: _START_ cough medicine  _END_\n",
      "\n",
      "Review: great taffy at a great price    there be a wide assortment of yummy taffy    delivery be very quick    if your a taffy lover   this be a deal\n",
      "Summary: _START_ great taffy  _END_\n",
      "\n"
     ]
    }
   ],
   "source": [
    "# Printing few examples of Data\n",
    "for i in range(5):\n",
    "    print(\"Review:\",df['cleaned_text'][i])\n",
    "    print(\"Summary:\",df['cleaned_summary'][i])\n",
    "    print()"
   ]
  },
  {
   "cell_type": "code",
   "execution_count": 30,
   "metadata": {
    "execution": {
     "iopub.execute_input": "2023-07-30T13:34:08.137864Z",
     "iopub.status.busy": "2023-07-30T13:34:08.136599Z",
     "iopub.status.idle": "2023-07-30T13:34:08.718290Z",
     "shell.execute_reply": "2023-07-30T13:34:08.716158Z",
     "shell.execute_reply.started": "2023-07-30T13:34:08.137822Z"
    }
   },
   "outputs": [
    {
     "data": {
      "image/png": "[encoded data removed]",
      "text/plain": [
       "<Figure size 640x480 with 2 Axes>"
      ]
     },
     "metadata": {},
     "output_type": "display_data"
    }
   ],
   "source": [
    "import matplotlib.pyplot as plt\n",
    "text_word_count = []\n",
    "summary_word_count = []\n",
    "\n",
    "# populate the lists with sentence lengths\n",
    "for i in df['cleaned_text']:\n",
    "      text_word_count.append(len(i.split()))\n",
    "\n",
    "for i in df['cleaned_summary']:\n",
    "      summary_word_count.append(len(i.split()))\n",
    "\n",
    "length_df = pd.DataFrame({'text':text_word_count, 'summary':summary_word_count})\n",
    "length_df.hist(bins = 30)\n",
    "plt.show()"
   ]
  },
  {
   "cell_type": "code",
   "execution_count": 31,
   "metadata": {
    "execution": {
     "iopub.execute_input": "2023-07-30T13:34:08.721099Z",
     "iopub.status.busy": "2023-07-30T13:34:08.720738Z",
     "iopub.status.idle": "2023-07-30T13:34:08.725771Z",
     "shell.execute_reply": "2023-07-30T13:34:08.724548Z",
     "shell.execute_reply.started": "2023-07-30T13:34:08.721064Z"
    }
   },
   "outputs": [],
   "source": [
    "max_in_len =400  # Max text length chosen based on distribution\n",
    "max_tr_len =20   # Max summary length"
   ]
  },
  {
   "cell_type": "code",
   "execution_count": 32,
   "metadata": {
    "execution": {
     "iopub.execute_input": "2023-07-30T13:34:10.021982Z",
     "iopub.status.busy": "2023-07-30T13:34:10.021272Z",
     "iopub.status.idle": "2023-07-30T13:34:10.029933Z",
     "shell.execute_reply": "2023-07-30T13:34:10.028814Z",
     "shell.execute_reply.started": "2023-07-30T13:34:10.021946Z"
    }
   },
   "outputs": [],
   "source": [
    "from sklearn.model_selection import train_test_split\n",
    "x_train,x_val,y_train,y_val = train_test_split(df['cleaned_text'],df['cleaned_summary'],test_size=0.2,random_state=0,shuffle=True)"
   ]
  },
  {
   "cell_type": "markdown",
   "metadata": {},
   "source": [
    "# Transformer Model"
   ]
  },
  {
   "cell_type": "code",
   "execution_count": 33,
   "metadata": {
    "execution": {
     "iopub.execute_input": "2023-07-30T13:34:20.875771Z",
     "iopub.status.busy": "2023-07-30T13:34:20.874714Z",
     "iopub.status.idle": "2023-07-30T13:34:24.322375Z",
     "shell.execute_reply": "2023-07-30T13:34:24.321429Z",
     "shell.execute_reply.started": "2023-07-30T13:34:20.875733Z"
    }
   },
   "outputs": [
    {
     "name": "stdout",
     "output_type": "stream",
     "text": [
      "[nltk_data] Downloading package punkt to /usr/share/nltk_data...\n",
      "[nltk_data]   Package punkt is already up-to-date!\n"
     ]
    },
    {
     "data": {
      "text/plain": [
       "True"
      ]
     },
     "execution_count": 33,
     "metadata": {},
     "output_type": "execute_result"
    }
   ],
   "source": [
    "from transformers import pipeline, set_seed\n",
    "\n",
    "import matplotlib.pyplot as plt\n",
    "from datasets import load_dataset\n",
    "import pandas as pd\n",
    "from datasets import load_dataset, load_metric\n",
    "\n",
    "from transformers import AutoModelForSeq2SeqLM, AutoTokenizer\n",
    "\n",
    "import nltk\n",
    "from nltk.tokenize import sent_tokenize\n",
    "\n",
    "from tqdm import tqdm\n",
    "import torch\n",
    "\n",
    "nltk.download(\"punkt\")"
   ]
  },
  {
   "cell_type": "code",
   "execution_count": 34,
   "metadata": {
    "execution": {
     "iopub.execute_input": "2023-07-30T13:34:26.019533Z",
     "iopub.status.busy": "2023-07-30T13:34:26.018665Z",
     "iopub.status.idle": "2023-07-30T13:35:02.571684Z",
     "shell.execute_reply": "2023-07-30T13:35:02.570567Z",
     "shell.execute_reply.started": "2023-07-30T13:34:26.019497Z"
    }
   },
   "outputs": [
    {
     "data": {
      "application/vnd.jupyter.widget-view+json": {
       "model_id": "b2155221e7174882856a82007f1ebf66",
       "version_major": 2,
       "version_minor": 0
      },
      "text/plain": [
       "Downloading (…)okenizer_config.json:   0%|          | 0.00/88.0 [00:00<?, ?B/s]"
      ]
     },
     "metadata": {},
     "output_type": "display_data"
    },
    {
     "data": {
      "application/vnd.jupyter.widget-view+json": {
       "model_id": "148d59ffb6944ba0a020b51ff9491862",
       "version_major": 2,
       "version_minor": 0
      },
      "text/plain": [
       "Downloading (…)lve/main/config.json:   0%|          | 0.00/1.12k [00:00<?, ?B/s]"
      ]
     },
     "metadata": {},
     "output_type": "display_data"
    },
    {
     "data": {
      "application/vnd.jupyter.widget-view+json": {
       "model_id": "806fecf00f2d48e19370b7299546de6e",
       "version_major": 2,
       "version_minor": 0
      },
      "text/plain": [
       "Downloading (…)ve/main/spiece.model:   0%|          | 0.00/1.91M [00:00<?, ?B/s]"
      ]
     },
     "metadata": {},
     "output_type": "display_data"
    },
    {
     "data": {
      "application/vnd.jupyter.widget-view+json": {
       "model_id": "13083a2376d14d50937d033ab37ebe57",
       "version_major": 2,
       "version_minor": 0
      },
      "text/plain": [
       "Downloading (…)cial_tokens_map.json:   0%|          | 0.00/65.0 [00:00<?, ?B/s]"
      ]
     },
     "metadata": {},
     "output_type": "display_data"
    },
    {
     "data": {
      "application/vnd.jupyter.widget-view+json": {
       "model_id": "8183d3ff4a424f9f8e9d40055218005b",
       "version_major": 2,
       "version_minor": 0
      },
      "text/plain": [
       "Downloading pytorch_model.bin:   0%|          | 0.00/2.28G [00:00<?, ?B/s]"
      ]
     },
     "metadata": {},
     "output_type": "display_data"
    },
    {
     "data": {
      "application/vnd.jupyter.widget-view+json": {
       "model_id": "48551b8cdf7e4ab884a84913c1807c31",
       "version_major": 2,
       "version_minor": 0
      },
      "text/plain": [
       "Downloading (…)neration_config.json:   0%|          | 0.00/280 [00:00<?, ?B/s]"
      ]
     },
     "metadata": {},
     "output_type": "display_data"
    }
   ],
   "source": [
    "from transformers import AutoModelForSeq2SeqLM, AutoTokenizer\n",
    "\n",
    "model_ckpt = \"google/pegasus-cnn_dailymail\"\n",
    "\n",
    "tokenizer = AutoTokenizer.from_pretrained(model_ckpt)\n",
    "\n",
    "model_pegasus = AutoModelForSeq2SeqLM.from_pretrained(model_ckpt)"
   ]
  },
  {
   "cell_type": "code",
   "execution_count": 35,
   "metadata": {
    "execution": {
     "iopub.execute_input": "2023-07-30T13:35:02.574357Z",
     "iopub.status.busy": "2023-07-30T13:35:02.573977Z",
     "iopub.status.idle": "2023-07-30T13:35:02.580396Z",
     "shell.execute_reply": "2023-07-30T13:35:02.579417Z",
     "shell.execute_reply.started": "2023-07-30T13:35:02.574320Z"
    }
   },
   "outputs": [
    {
     "name": "stdout",
     "output_type": "stream",
     "text": [
      "I have buy several of the vitality can dog food product and have find they all to be of good quality   the product look more like a stew than a process meat and it smell well   my labrador be finicky and she appreciate this product well than   most\n",
      "_START_ good quality dog food  _END_\n"
     ]
    }
   ],
   "source": [
    "print(x_train[0])\n",
    "print(y_train[0])"
   ]
  },
  {
   "cell_type": "code",
   "execution_count": 36,
   "metadata": {
    "execution": {
     "iopub.execute_input": "2023-07-30T13:35:07.582473Z",
     "iopub.status.busy": "2023-07-30T13:35:07.582103Z",
     "iopub.status.idle": "2023-07-30T13:35:08.880778Z",
     "shell.execute_reply": "2023-07-30T13:35:08.879762Z",
     "shell.execute_reply.started": "2023-07-30T13:35:07.582442Z"
    }
   },
   "outputs": [],
   "source": [
    "train_input_encodings = tokenizer(list(x_train) , max_length = 400, truncation = True, padding = True )\n",
    "\n",
    "with tokenizer.as_target_tokenizer():\n",
    "        train_target_encodings = tokenizer(list(y_train), max_length = 20, truncation = True, padding = True )"
   ]
  },
  {
   "cell_type": "code",
   "execution_count": 37,
   "metadata": {
    "execution": {
     "iopub.execute_input": "2023-07-30T13:35:09.876898Z",
     "iopub.status.busy": "2023-07-30T13:35:09.876499Z",
     "iopub.status.idle": "2023-07-30T13:35:10.238709Z",
     "shell.execute_reply": "2023-07-30T13:35:10.237626Z",
     "shell.execute_reply.started": "2023-07-30T13:35:09.876866Z"
    }
   },
   "outputs": [],
   "source": [
    "val_input_encodings = tokenizer(list(x_val) , max_length = 400, truncation = True, padding = True )\n",
    "\n",
    "with tokenizer.as_target_tokenizer():\n",
    "        val_target_encodings = tokenizer(list(y_val), max_length = 20, truncation = True, padding = True )"
   ]
  },
  {
   "cell_type": "code",
   "execution_count": 38,
   "metadata": {
    "execution": {
     "iopub.execute_input": "2023-07-30T13:35:12.017845Z",
     "iopub.status.busy": "2023-07-30T13:35:12.017260Z",
     "iopub.status.idle": "2023-07-30T13:35:12.052657Z",
     "shell.execute_reply": "2023-07-30T13:35:12.051760Z",
     "shell.execute_reply.started": "2023-07-30T13:35:12.017804Z"
    }
   },
   "outputs": [],
   "source": [
    "from transformers import TrainingArguments, Trainer\n",
    "\n",
    "trainer_args = TrainingArguments(\n",
    "    output_dir='pegasus', \n",
    "    num_train_epochs=1,\n",
    "    per_device_train_batch_size=1, per_device_eval_batch_size=1,\n",
    "    gradient_accumulation_steps=16)"
   ]
  },
  {
   "cell_type": "code",
   "execution_count": 39,
   "metadata": {
    "execution": {
     "iopub.execute_input": "2023-07-30T13:35:15.183436Z",
     "iopub.status.busy": "2023-07-30T13:35:15.183024Z",
     "iopub.status.idle": "2023-07-30T13:35:15.191059Z",
     "shell.execute_reply": "2023-07-30T13:35:15.190024Z",
     "shell.execute_reply.started": "2023-07-30T13:35:15.183403Z"
    }
   },
   "outputs": [],
   "source": [
    "from torch.utils.data import Dataset\n",
    "\n",
    "class MyDataset(Dataset):\n",
    "    def __init__(self, encodings, target_encodings):\n",
    "        self.encodings = encodings\n",
    "        self.target_encodings = target_encodings\n",
    "\n",
    "    def __len__(self):\n",
    "        return len(self.encodings[\"input_ids\"])\n",
    "\n",
    "    def __getitem__(self, idx):\n",
    "        item = {key: torch.tensor(val[idx]) for key, val in self.encodings.items()}\n",
    "        item[\"labels\"] = torch.tensor(self.target_encodings[\"input_ids\"][idx])\n",
    "        return item\n",
    "    \n",
    "\n",
    "train_data = MyDataset(train_input_encodings, train_target_encodings)\n",
    "val_data = MyDataset(val_input_encodings, val_target_encodings)"
   ]
  },
  {
   "cell_type": "code",
   "execution_count": 40,
   "metadata": {
    "execution": {
     "iopub.execute_input": "2023-07-30T13:35:17.590725Z",
     "iopub.status.busy": "2023-07-30T13:35:17.590349Z",
     "iopub.status.idle": "2023-07-30T13:35:22.533710Z",
     "shell.execute_reply": "2023-07-30T13:35:22.532707Z",
     "shell.execute_reply.started": "2023-07-30T13:35:17.590694Z"
    }
   },
   "outputs": [],
   "source": [
    "trainer = Trainer(model=model_pegasus, \n",
    "                  args=trainer_args,\n",
    "                  tokenizer=tokenizer,\n",
    "                  train_dataset=train_data,\n",
    "                  eval_dataset = val_data\n",
    "                 )"
   ]
  },
  {
   "cell_type": "code",
   "execution_count": 41,
   "metadata": {
    "execution": {
     "iopub.execute_input": "2023-07-30T13:35:24.362301Z",
     "iopub.status.busy": "2023-07-30T13:35:24.361943Z",
     "iopub.status.idle": "2023-07-30T13:49:13.954440Z",
     "shell.execute_reply": "2023-07-30T13:49:13.950604Z",
     "shell.execute_reply.started": "2023-07-30T13:35:24.362271Z"
    }
   },
   "outputs": [
    {
     "name": "stderr",
     "output_type": "stream",
     "text": [
      "\u001b[34m\u001b[1mwandb\u001b[0m: Logging into wandb.ai. (Learn how to deploy a W&B server locally: https://wandb.me/wandb-server)\n",
      "\u001b[34m\u001b[1mwandb\u001b[0m: You can find your API key in your browser here: https://wandb.ai/authorize\n",
      "\u001b[34m\u001b[1mwandb\u001b[0m: Paste an API key from your profile and hit enter, or press ctrl+c to quit:"
     ]
    },
    {
     "name": "stdin",
     "output_type": "stream",
     "text": [
      "  ········································\n"
     ]
    },
    {
     "name": "stderr",
     "output_type": "stream",
     "text": [
      "\u001b[34m\u001b[1mwandb\u001b[0m: Appending key for api.wandb.ai to your netrc file: /root/.netrc\n"
     ]
    },
    {
     "data": {
      "text/html": [
       "wandb version 0.15.7 is available!  To upgrade, please run:\n",
       " $ pip install wandb --upgrade"
      ],
      "text/plain": [
       "<IPython.core.display.HTML object>"
      ]
     },
     "metadata": {},
     "output_type": "display_data"
    },
    {
     "data": {
      "text/html": [
       "Tracking run with wandb version 0.15.5"
      ],
      "text/plain": [
       "<IPython.core.display.HTML object>"
      ]
     },
     "metadata": {},
     "output_type": "display_data"
    },
    {
     "data": {
      "text/html": [
       "Run data is saved locally in <code>/kaggle/working/wandb/run-20230730_133542-u97w0qnm</code>"
      ],
      "text/plain": [
       "<IPython.core.display.HTML object>"
      ]
     },
     "metadata": {},
     "output_type": "display_data"
    },
    {
     "data": {
      "text/html": [
       "Syncing run <strong><a href='https://wandb.ai/hardikatri7/huggingface/runs/u97w0qnm' target=\"_blank\">wandering-lion-6</a></strong> to <a href='https://wandb.ai/hardikatri7/huggingface' target=\"_blank\">Weights & Biases</a> (<a href='https://wandb.me/run' target=\"_blank\">docs</a>)<br/>"
      ],
      "text/plain": [
       "<IPython.core.display.HTML object>"
      ]
     },
     "metadata": {},
     "output_type": "display_data"
    },
    {
     "data": {
      "text/html": [
       " View project at <a href='https://wandb.ai/hardikatri7/huggingface' target=\"_blank\">https://wandb.ai/hardikatri7/huggingface</a>"
      ],
      "text/plain": [
       "<IPython.core.display.HTML object>"
      ]
     },
     "metadata": {},
     "output_type": "display_data"
    },
    {
     "data": {
      "text/html": [
       " View run at <a href='https://wandb.ai/hardikatri7/huggingface/runs/u97w0qnm' target=\"_blank\">https://wandb.ai/hardikatri7/huggingface/runs/u97w0qnm</a>"
      ],
      "text/plain": [
       "<IPython.core.display.HTML object>"
      ]
     },
     "metadata": {},
     "output_type": "display_data"
    },
    {
     "name": "stderr",
     "output_type": "stream",
     "text": [
      "You're using a PegasusTokenizerFast tokenizer. Please note that with a fast tokenizer, using the `__call__` method is faster than using a method to encode the text followed by a call to the `pad` method to get a padded encoding.\n"
     ]
    },
    {
     "data": {
      "text/html": [
       "\n",
       "    <div>\n",
       "      \n",
       "      <progress value='249' max='249' style='width:300px; height:20px; vertical-align: middle;'></progress>\n",
       "      [249/249 12:54, Epoch 1/1]\n",
       "    </div>\n",
       "    <table border=\"1\" class=\"dataframe\">\n",
       "  <thead>\n",
       " <tr style=\"text-align: left;\">\n",
       "      <th>Step</th>\n",
       "      <th>Training Loss</th>\n",
       "    </tr>\n",
       "  </thead>\n",
       "  <tbody>\n",
       "  </tbody>\n",
       "</table><p>"
      ],
      "text/plain": [
       "<IPython.core.display.HTML object>"
      ]
     },
     "metadata": {},
     "output_type": "display_data"
    },
    {
     "data": {
      "text/plain": [
       "TrainOutput(global_step=249, training_loss=4.763829242752259, metrics={'train_runtime': 828.9131, 'train_samples_per_second': 4.806, 'train_steps_per_second': 0.3, 'total_flos': 4496728994611200.0, 'train_loss': 4.763829242752259, 'epoch': 1.0})"
      ]
     },
     "execution_count": 41,
     "metadata": {},
     "output_type": "execute_result"
    }
   ],
   "source": [
    "trainer.train()"
   ]
  },
  {
   "cell_type": "code",
   "execution_count": 42,
   "metadata": {
    "execution": {
     "iopub.execute_input": "2023-07-30T13:49:38.812288Z",
     "iopub.status.busy": "2023-07-30T13:49:38.811400Z",
     "iopub.status.idle": "2023-07-30T13:49:38.824659Z",
     "shell.execute_reply": "2023-07-30T13:49:38.823367Z",
     "shell.execute_reply.started": "2023-07-30T13:49:38.812256Z"
    }
   },
   "outputs": [],
   "source": [
    "def generate_batch_sized_chunks(list_of_elements, batch_size):\n",
    "    \"\"\"split the dataset into smaller batches that we can process simultaneously\n",
    "    Yield successive batch-sized chunks from list_of_elements.\"\"\"\n",
    "    for i in range(0, len(list_of_elements), batch_size):\n",
    "        yield list_of_elements[i : i + batch_size]"
   ]
  },
  {
   "cell_type": "code",
   "execution_count": 43,
   "metadata": {
    "execution": {
     "iopub.execute_input": "2023-07-30T13:49:48.991162Z",
     "iopub.status.busy": "2023-07-30T13:49:48.990768Z",
     "iopub.status.idle": "2023-07-30T13:49:49.007167Z",
     "shell.execute_reply": "2023-07-30T13:49:49.005945Z",
     "shell.execute_reply.started": "2023-07-30T13:49:48.991128Z"
    }
   },
   "outputs": [],
   "source": [
    "def calculate_metric_on_test_ds(x_val,y_val, metric, model, tokenizer, batch_size=16):\n",
    "    \n",
    "    article_batches = list(generate_batch_sized_chunks(list(x_val), batch_size))\n",
    "    target_batches = list(generate_batch_sized_chunks(list(y_val), batch_size))\n",
    "\n",
    "    for article_batch, target_batch in zip(article_batches, target_batches):\n",
    "        \n",
    "        inputs = tokenizer(article_batch, max_length=400,  truncation=True, padding=True, return_tensors=\"pt\")\n",
    "        \n",
    "        # Move inputs to the same device as the model (cuda:0)\n",
    "        inputs = {k: v.to(model.device) for k, v in inputs.items()}\n",
    "        \n",
    "        summaries = model.generate(input_ids=inputs[\"input_ids\"],attention_mask=inputs[\"attention_mask\"], \n",
    "                                   length_penalty=0.8, num_beams=8, max_length=128)\n",
    "        ''' parameter for length penalty ensures that the model does not generate sequences that are too long. '''\n",
    "        \n",
    "        # Finally, we decode the generated texts, \n",
    "        # replace the  token, and add the decoded texts with the references to the metric.\n",
    "        decoded_summaries = [tokenizer.decode(s, skip_special_tokens=True, clean_up_tokenization_spaces=True) for s in summaries]      \n",
    "        \n",
    "        decoded_summaries = [d.replace(\"\", \" \") for d in decoded_summaries]\n",
    "        \n",
    "        \n",
    "        metric.add_batch(predictions=decoded_summaries, references=target_batch)\n",
    "        \n",
    "    #  Finally compute and return the ROUGE scores.\n",
    "    score = metric.compute()\n",
    "    return score"
   ]
  },
  {
   "cell_type": "code",
   "execution_count": 44,
   "metadata": {
    "execution": {
     "iopub.execute_input": "2023-07-30T13:49:52.862015Z",
     "iopub.status.busy": "2023-07-30T13:49:52.861658Z",
     "iopub.status.idle": "2023-07-30T13:50:08.876228Z",
     "shell.execute_reply": "2023-07-30T13:50:08.874686Z",
     "shell.execute_reply.started": "2023-07-30T13:49:52.861986Z"
    }
   },
   "outputs": [
    {
     "name": "stdout",
     "output_type": "stream",
     "text": [
      "huggingface/tokenizers: The current process just got forked, after parallelism has already been used. Disabling parallelism to avoid deadlocks...\n",
      "To disable this warning, you can either:\n",
      "\t- Avoid using `tokenizers` before the fork if possible\n",
      "\t- Explicitly set the environment variable TOKENIZERS_PARALLELISM=(true | false)\n",
      "Collecting rouge_score\n",
      "  Downloading rouge_score-0.1.2.tar.gz (17 kB)\n",
      "  Preparing metadata (setup.py) ... \u001b[?25ldone\n",
      "\u001b[?25hRequirement already satisfied: absl-py in /opt/conda/lib/python3.10/site-packages (from rouge_score) (1.4.0)\n",
      "Requirement already satisfied: nltk in /opt/conda/lib/python3.10/site-packages (from rouge_score) (3.2.4)\n",
      "Requirement already satisfied: numpy in /opt/conda/lib/python3.10/site-packages (from rouge_score) (1.23.5)\n",
      "Requirement already satisfied: six>=1.14.0 in /opt/conda/lib/python3.10/site-packages (from rouge_score) (1.16.0)\n",
      "Building wheels for collected packages: rouge_score\n",
      "  Building wheel for rouge_score (setup.py) ... \u001b[?25ldone\n",
      "\u001b[?25h  Created wheel for rouge_score: filename=rouge_score-0.1.2-py3-none-any.whl size=24954 sha256=a36bb76e65f7d31ff25974123aa6fcaebefcbf85de3c4f9e1bb6bd717620caf2\n",
      "  Stored in directory: /root/.cache/pip/wheels/5f/dd/89/461065a73be61a532ff8599a28e9beef17985c9e9c31e541b4\n",
      "Successfully built rouge_score\n",
      "Installing collected packages: rouge_score\n",
      "Successfully installed rouge_score-0.1.2\n"
     ]
    }
   ],
   "source": [
    "!pip install rouge_score"
   ]
  },
  {
   "cell_type": "code",
   "execution_count": 45,
   "metadata": {
    "execution": {
     "iopub.execute_input": "2023-07-30T13:50:12.421789Z",
     "iopub.status.busy": "2023-07-30T13:50:12.421367Z",
     "iopub.status.idle": "2023-07-30T13:50:13.039703Z",
     "shell.execute_reply": "2023-07-30T13:50:13.038596Z",
     "shell.execute_reply.started": "2023-07-30T13:50:12.421752Z"
    }
   },
   "outputs": [
    {
     "data": {
      "application/vnd.jupyter.widget-view+json": {
       "model_id": "cbda9fca1c7a477b815bd990807cd89a",
       "version_major": 2,
       "version_minor": 0
      },
      "text/plain": [
       "Downloading builder script:   0%|          | 0.00/2.16k [00:00<?, ?B/s]"
      ]
     },
     "metadata": {},
     "output_type": "display_data"
    }
   ],
   "source": [
    "from datasets import load_metric\n",
    "rouge_metric = load_metric(\"rouge\")"
   ]
  },
  {
   "cell_type": "code",
   "execution_count": 46,
   "metadata": {
    "execution": {
     "iopub.execute_input": "2023-07-30T13:50:17.835803Z",
     "iopub.status.busy": "2023-07-30T13:50:17.835378Z",
     "iopub.status.idle": "2023-07-30T13:50:18.010577Z",
     "shell.execute_reply": "2023-07-30T13:50:18.009393Z",
     "shell.execute_reply.started": "2023-07-30T13:50:17.835767Z"
    }
   },
   "outputs": [],
   "source": [
    "torch.cuda.empty_cache()"
   ]
  },
  {
   "cell_type": "code",
   "execution_count": 47,
   "metadata": {
    "execution": {
     "iopub.execute_input": "2023-07-30T13:50:24.907001Z",
     "iopub.status.busy": "2023-07-30T13:50:24.906554Z",
     "iopub.status.idle": "2023-07-30T14:10:32.292526Z",
     "shell.execute_reply": "2023-07-30T14:10:32.291391Z",
     "shell.execute_reply.started": "2023-07-30T13:50:24.906957Z"
    }
   },
   "outputs": [
    {
     "data": {
      "text/html": [
       "<div>\n",
       "<style scoped>\n",
       "    .dataframe tbody tr th:only-of-type {\n",
       "        vertical-align: middle;\n",
       "    }\n",
       "\n",
       "    .dataframe tbody tr th {\n",
       "        vertical-align: top;\n",
       "    }\n",
       "\n",
       "    .dataframe thead th {\n",
       "        text-align: right;\n",
       "    }\n",
       "</style>\n",
       "<table border=\"1\" class=\"dataframe\">\n",
       "  <thead>\n",
       "    <tr style=\"text-align: right;\">\n",
       "      <th></th>\n",
       "      <th>rouge1</th>\n",
       "      <th>rouge2</th>\n",
       "      <th>rougeL</th>\n",
       "      <th>rougeLsum</th>\n",
       "    </tr>\n",
       "  </thead>\n",
       "  <tbody>\n",
       "    <tr>\n",
       "      <th>pegasus</th>\n",
       "      <td>0.0</td>\n",
       "      <td>0.0</td>\n",
       "      <td>0.0</td>\n",
       "      <td>0.0</td>\n",
       "    </tr>\n",
       "  </tbody>\n",
       "</table>\n",
       "</div>"
      ],
      "text/plain": [
       "         rouge1  rouge2  rougeL  rougeLsum\n",
       "pegasus     0.0     0.0     0.0        0.0"
      ]
     },
     "execution_count": 47,
     "metadata": {},
     "output_type": "execute_result"
    }
   ],
   "source": [
    "score = calculate_metric_on_test_ds(x_val, y_val, rouge_metric, trainer.model, tokenizer, batch_size = 1)\n",
    "\n",
    "rouge_names = [\"rouge1\", \"rouge2\", \"rougeL\", \"rougeLsum\"]\n",
    "\n",
    "rouge_dict = dict((rn, score[rn].mid.fmeasure ) for rn in rouge_names )\n",
    "\n",
    "pd.DataFrame(rouge_dict, index = [f'pegasus'])"
   ]
  },
  {
   "cell_type": "code",
   "execution_count": null,
   "metadata": {},
   "outputs": [],
   "source": []
  }
 ],
 "metadata": {
  "kernelspec": {
   "display_name": "Python 3 (ipykernel)",
   "language": "python",
   "name": "python3"
  },
  "language_info": {
   "codemirror_mode": {
    "name": "ipython",
    "version": 3
   },
   "file_extension": ".py",
   "mimetype": "text/x-python",
   "name": "python",
   "nbconvert_exporter": "python",
   "pygments_lexer": "ipython3",
   "version": "3.10.9"
  }
 },
 "nbformat": 4,
 "nbformat_minor": 4
}
