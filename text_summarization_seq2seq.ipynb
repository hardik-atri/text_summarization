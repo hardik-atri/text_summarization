{
 "cells": [
  {
   "cell_type": "code",
   "execution_count": 1,
   "metadata": {
    "_cell_guid": "b1076dfc-b9ad-4769-8c92-a6c4dae69d19",
    "_uuid": "8f2839f25d086af736a60e9eeb907d3b93b6e0e5",
    "execution": {
     "iopub.execute_input": "2023-07-30T14:33:28.010690Z",
     "iopub.status.busy": "2023-07-30T14:33:28.010311Z",
     "iopub.status.idle": "2023-07-30T14:33:28.029140Z",
     "shell.execute_reply": "2023-07-30T14:33:28.028119Z",
     "shell.execute_reply.started": "2023-07-30T14:33:28.010659Z"
    }
   },
   "outputs": [
    {
     "name": "stdout",
     "output_type": "stream",
     "text": [
      "/kaggle/input/amazon-fine-food-reviews/hashes.txt\n",
      "/kaggle/input/amazon-fine-food-reviews/Reviews.csv\n",
      "/kaggle/input/amazon-fine-food-reviews/database.sqlite\n"
     ]
    }
   ],
   "source": [
    "# This Python 3 environment comes with many helpful analytics libraries installed\n",
    "# It is defined by the kaggle/python Docker image: https://github.com/kaggle/docker-python\n",
    "# For example, here's several helpful packages to load\n",
    "\n",
    "import numpy as np # linear algebra\n",
    "import pandas as pd # data processing, CSV file I/O (e.g. pd.read_csv)\n",
    "\n",
    "# Input data files are available in the read-only \"../input/\" directory\n",
    "# For example, running this (by clicking run or pressing Shift+Enter) will list all files under the input directory\n",
    "\n",
    "import os\n",
    "for dirname, _, filenames in os.walk('/kaggle/input'):\n",
    "    for filename in filenames:\n",
    "        print(os.path.join(dirname, filename))\n",
    "\n",
    "# You can write up to 20GB to the current directory (/kaggle/working/) that gets preserved as output when you create a version using \"Save & Run All\" \n",
    "# You can also write temporary files to /kaggle/temp/, but they won't be saved outside of the current session"
   ]
  },
  {
   "cell_type": "code",
   "execution_count": 2,
   "metadata": {
    "execution": {
     "iopub.execute_input": "2023-07-30T14:33:29.062579Z",
     "iopub.status.busy": "2023-07-30T14:33:29.062222Z",
     "iopub.status.idle": "2023-07-30T14:33:38.225980Z",
     "shell.execute_reply": "2023-07-30T14:33:38.225001Z",
     "shell.execute_reply.started": "2023-07-30T14:33:29.062549Z"
    }
   },
   "outputs": [
    {
     "name": "stderr",
     "output_type": "stream",
     "text": [
      "/opt/conda/lib/python3.10/site-packages/scipy/__init__.py:146: UserWarning: A NumPy version >=1.16.5 and <1.23.0 is required for this version of SciPy (detected version 1.23.5\n",
      "  warnings.warn(f\"A NumPy version >={np_minversion} and <{np_maxversion}\"\n",
      "/opt/conda/lib/python3.10/site-packages/tensorflow_io/python/ops/__init__.py:98: UserWarning: unable to load libtensorflow_io_plugins.so: unable to open file: libtensorflow_io_plugins.so, from paths: ['/opt/conda/lib/python3.10/site-packages/tensorflow_io/python/ops/libtensorflow_io_plugins.so']\n",
      "caused by: ['/opt/conda/lib/python3.10/site-packages/tensorflow_io/python/ops/libtensorflow_io_plugins.so: undefined symbol: _ZN3tsl6StatusC1EN10tensorflow5error4CodeESt17basic_string_viewIcSt11char_traitsIcEENS_14SourceLocationE']\n",
      "  warnings.warn(f\"unable to load libtensorflow_io_plugins.so: {e}\")\n",
      "/opt/conda/lib/python3.10/site-packages/tensorflow_io/python/ops/__init__.py:104: UserWarning: file system plugins are not loaded: unable to open file: libtensorflow_io.so, from paths: ['/opt/conda/lib/python3.10/site-packages/tensorflow_io/python/ops/libtensorflow_io.so']\n",
      "caused by: ['/opt/conda/lib/python3.10/site-packages/tensorflow_io/python/ops/libtensorflow_io.so: undefined symbol: _ZTVN10tensorflow13GcsFileSystemE']\n",
      "  warnings.warn(f\"file system plugins are not loaded: {e}\")\n"
     ]
    }
   ],
   "source": [
    "import numpy as np\n",
    "import pandas as pd\n",
    "import re\n",
    "import nltk\n",
    "from nltk.corpus import stopwords\n",
    "from nltk.stem.snowball import SnowballStemmer\n",
    "import tensorflow as tf\n",
    "from tensorflow.keras.preprocessing.text import Tokenizer\n",
    "from tensorflow.keras.preprocessing.sequence import pad_sequences\n",
    "from tensorflow.keras.models import Sequential, Model\n",
    "from tensorflow.keras.layers import Dense,Dropout,Input,LSTM,BatchNormalization\n",
    "from tensorflow.keras.layers import Flatten\n",
    "from tensorflow.keras.layers import Embedding\n",
    "from tensorflow.keras.layers import concatenate\n",
    "from tensorflow.keras.utils import to_categorical\n",
    "from tensorflow.keras.optimizers import Adam\n",
    "from tensorflow.keras.callbacks import EarlyStopping\n",
    "from tensorflow.keras.initializers import TruncatedNormal\n",
    "from tensorflow.keras.losses import CategoricalCrossentropy\n",
    "from tensorflow.keras.metrics import CategoricalAccuracy\n",
    "from tensorflow.keras.layers import Bidirectional\n",
    "\n",
    "import warnings\n",
    "warnings.filterwarnings(\"ignore\")"
   ]
  },
  {
   "cell_type": "code",
   "execution_count": 3,
   "metadata": {
    "execution": {
     "iopub.execute_input": "2023-07-30T14:33:38.228198Z",
     "iopub.status.busy": "2023-07-30T14:33:38.227599Z",
     "iopub.status.idle": "2023-07-30T14:33:38.406405Z",
     "shell.execute_reply": "2023-07-30T14:33:38.405472Z",
     "shell.execute_reply.started": "2023-07-30T14:33:38.228170Z"
    }
   },
   "outputs": [],
   "source": [
    "from tensorflow.keras.layers import Attention\n",
    "from bs4 import BeautifulSoup"
   ]
  },
  {
   "cell_type": "code",
   "execution_count": 4,
   "metadata": {
    "execution": {
     "iopub.execute_input": "2023-07-30T14:33:43.219651Z",
     "iopub.status.busy": "2023-07-30T14:33:43.218952Z",
     "iopub.status.idle": "2023-07-30T14:33:43.302239Z",
     "shell.execute_reply": "2023-07-30T14:33:43.301162Z",
     "shell.execute_reply.started": "2023-07-30T14:33:43.219616Z"
    }
   },
   "outputs": [
    {
     "data": {
      "text/plain": [
       "(5000, 10)"
      ]
     },
     "execution_count": 4,
     "metadata": {},
     "output_type": "execute_result"
    }
   ],
   "source": [
    "df = pd.read_csv('/kaggle/input/amazon-fine-food-reviews/Reviews.csv', delimiter=',',nrows=5000)\n",
    "df.shape"
   ]
  },
  {
   "cell_type": "code",
   "execution_count": 5,
   "metadata": {
    "execution": {
     "iopub.execute_input": "2023-07-30T14:33:44.337576Z",
     "iopub.status.busy": "2023-07-30T14:33:44.336915Z",
     "iopub.status.idle": "2023-07-30T14:33:44.358528Z",
     "shell.execute_reply": "2023-07-30T14:33:44.357567Z",
     "shell.execute_reply.started": "2023-07-30T14:33:44.337536Z"
    }
   },
   "outputs": [
    {
     "data": {
      "text/html": [
       "<div>\n",
       "<style scoped>\n",
       "    .dataframe tbody tr th:only-of-type {\n",
       "        vertical-align: middle;\n",
       "    }\n",
       "\n",
       "    .dataframe tbody tr th {\n",
       "        vertical-align: top;\n",
       "    }\n",
       "\n",
       "    .dataframe thead th {\n",
       "        text-align: right;\n",
       "    }\n",
       "</style>\n",
       "<table border=\"1\" class=\"dataframe\">\n",
       "  <thead>\n",
       "    <tr style=\"text-align: right;\">\n",
       "      <th></th>\n",
       "      <th>Id</th>\n",
       "      <th>ProductId</th>\n",
       "      <th>UserId</th>\n",
       "      <th>ProfileName</th>\n",
       "      <th>HelpfulnessNumerator</th>\n",
       "      <th>HelpfulnessDenominator</th>\n",
       "      <th>Score</th>\n",
       "      <th>Time</th>\n",
       "      <th>Summary</th>\n",
       "      <th>Text</th>\n",
       "    </tr>\n",
       "  </thead>\n",
       "  <tbody>\n",
       "    <tr>\n",
       "      <th>0</th>\n",
       "      <td>1</td>\n",
       "      <td>B001E4KFG0</td>\n",
       "      <td>A3SGXH7AUHU8GW</td>\n",
       "      <td>delmartian</td>\n",
       "      <td>1</td>\n",
       "      <td>1</td>\n",
       "      <td>5</td>\n",
       "      <td>1303862400</td>\n",
       "      <td>Good Quality Dog Food</td>\n",
       "      <td>I have bought several of the Vitality canned d...</td>\n",
       "    </tr>\n",
       "    <tr>\n",
       "      <th>1</th>\n",
       "      <td>2</td>\n",
       "      <td>B00813GRG4</td>\n",
       "      <td>A1D87F6ZCVE5NK</td>\n",
       "      <td>dll pa</td>\n",
       "      <td>0</td>\n",
       "      <td>0</td>\n",
       "      <td>1</td>\n",
       "      <td>1346976000</td>\n",
       "      <td>Not as Advertised</td>\n",
       "      <td>Product arrived labeled as Jumbo Salted Peanut...</td>\n",
       "    </tr>\n",
       "    <tr>\n",
       "      <th>2</th>\n",
       "      <td>3</td>\n",
       "      <td>B000LQOCH0</td>\n",
       "      <td>ABXLMWJIXXAIN</td>\n",
       "      <td>Natalia Corres \"Natalia Corres\"</td>\n",
       "      <td>1</td>\n",
       "      <td>1</td>\n",
       "      <td>4</td>\n",
       "      <td>1219017600</td>\n",
       "      <td>\"Delight\" says it all</td>\n",
       "      <td>This is a confection that has been around a fe...</td>\n",
       "    </tr>\n",
       "    <tr>\n",
       "      <th>3</th>\n",
       "      <td>4</td>\n",
       "      <td>B000UA0QIQ</td>\n",
       "      <td>A395BORC6FGVXV</td>\n",
       "      <td>Karl</td>\n",
       "      <td>3</td>\n",
       "      <td>3</td>\n",
       "      <td>2</td>\n",
       "      <td>1307923200</td>\n",
       "      <td>Cough Medicine</td>\n",
       "      <td>If you are looking for the secret ingredient i...</td>\n",
       "    </tr>\n",
       "    <tr>\n",
       "      <th>4</th>\n",
       "      <td>5</td>\n",
       "      <td>B006K2ZZ7K</td>\n",
       "      <td>A1UQRSCLF8GW1T</td>\n",
       "      <td>Michael D. Bigham \"M. Wassir\"</td>\n",
       "      <td>0</td>\n",
       "      <td>0</td>\n",
       "      <td>5</td>\n",
       "      <td>1350777600</td>\n",
       "      <td>Great taffy</td>\n",
       "      <td>Great taffy at a great price.  There was a wid...</td>\n",
       "    </tr>\n",
       "  </tbody>\n",
       "</table>\n",
       "</div>"
      ],
      "text/plain": [
       "   Id   ProductId          UserId                      ProfileName  \\\n",
       "0   1  B001E4KFG0  A3SGXH7AUHU8GW                       delmartian   \n",
       "1   2  B00813GRG4  A1D87F6ZCVE5NK                           dll pa   \n",
       "2   3  B000LQOCH0   ABXLMWJIXXAIN  Natalia Corres \"Natalia Corres\"   \n",
       "3   4  B000UA0QIQ  A395BORC6FGVXV                             Karl   \n",
       "4   5  B006K2ZZ7K  A1UQRSCLF8GW1T    Michael D. Bigham \"M. Wassir\"   \n",
       "\n",
       "   HelpfulnessNumerator  HelpfulnessDenominator  Score        Time  \\\n",
       "0                     1                       1      5  1303862400   \n",
       "1                     0                       0      1  1346976000   \n",
       "2                     1                       1      4  1219017600   \n",
       "3                     3                       3      2  1307923200   \n",
       "4                     0                       0      5  1350777600   \n",
       "\n",
       "                 Summary                                               Text  \n",
       "0  Good Quality Dog Food  I have bought several of the Vitality canned d...  \n",
       "1      Not as Advertised  Product arrived labeled as Jumbo Salted Peanut...  \n",
       "2  \"Delight\" says it all  This is a confection that has been around a fe...  \n",
       "3         Cough Medicine  If you are looking for the secret ingredient i...  \n",
       "4            Great taffy  Great taffy at a great price.  There was a wid...  "
      ]
     },
     "execution_count": 5,
     "metadata": {},
     "output_type": "execute_result"
    }
   ],
   "source": [
    "df.head()"
   ]
  },
  {
   "cell_type": "code",
   "execution_count": 6,
   "metadata": {
    "execution": {
     "iopub.execute_input": "2023-07-30T14:33:47.160704Z",
     "iopub.status.busy": "2023-07-30T14:33:47.160327Z",
     "iopub.status.idle": "2023-07-30T14:33:47.166799Z",
     "shell.execute_reply": "2023-07-30T14:33:47.165756Z",
     "shell.execute_reply.started": "2023-07-30T14:33:47.160674Z"
    }
   },
   "outputs": [
    {
     "name": "stdout",
     "output_type": "stream",
     "text": [
      "I have bought several of the Vitality canned dog food products and have found them all to be of good quality. The product looks more like a stew than a processed meat and it smells better. My Labrador is finicky and she appreciates this product better than  most.\n",
      "\n",
      "Good Quality Dog Food\n"
     ]
    }
   ],
   "source": [
    "# Printing first example\n",
    "print(df['Text'][0])\n",
    "print()\n",
    "print(df['Summary'][0])"
   ]
  },
  {
   "cell_type": "markdown",
   "metadata": {},
   "source": [
    "## Dropping duplicate and NaN values"
   ]
  },
  {
   "cell_type": "code",
   "execution_count": 7,
   "metadata": {
    "execution": {
     "iopub.execute_input": "2023-07-30T14:33:48.809234Z",
     "iopub.status.busy": "2023-07-30T14:33:48.808879Z",
     "iopub.status.idle": "2023-07-30T14:33:48.829817Z",
     "shell.execute_reply": "2023-07-30T14:33:48.828843Z",
     "shell.execute_reply.started": "2023-07-30T14:33:48.809204Z"
    }
   },
   "outputs": [],
   "source": [
    "df.dropna(axis=0,inplace=True)\n",
    "df.drop_duplicates(subset=['Text'],inplace=True)"
   ]
  },
  {
   "cell_type": "markdown",
   "metadata": {},
   "source": [
    "## Preprocessing"
   ]
  },
  {
   "cell_type": "code",
   "execution_count": 8,
   "metadata": {
    "execution": {
     "iopub.execute_input": "2023-07-30T14:33:50.493401Z",
     "iopub.status.busy": "2023-07-30T14:33:50.493046Z",
     "iopub.status.idle": "2023-07-30T14:33:50.508616Z",
     "shell.execute_reply": "2023-07-30T14:33:50.507387Z",
     "shell.execute_reply.started": "2023-07-30T14:33:50.493370Z"
    }
   },
   "outputs": [],
   "source": [
    "astrophe_words = {\"ain't\": \"is not\", \"aren't\": \"are not\",\"can't\": \"cannot\", \"'cause\": \"because\", \"could've\": \"could have\", \"couldn't\": \"could not\",\n",
    "\n",
    "                           \"didn't\": \"did not\", \"doesn't\": \"does not\", \"don't\": \"do not\", \"hadn't\": \"had not\", \"hasn't\": \"has not\", \"haven't\": \"have not\",\n",
    "\n",
    "                           \"he'd\": \"he would\",\"he'll\": \"he will\", \"he's\": \"he is\", \"how'd\": \"how did\", \"how'd'y\": \"how do you\", \"how'll\": \"how will\", \"how's\": \"how is\",\n",
    "\n",
    "                           \"I'd\": \"I would\", \"I'd've\": \"I would have\", \"I'll\": \"I will\", \"I'll've\": \"I will have\",\"I'm\": \"I am\", \"I've\": \"I have\", \"i'd\": \"i would\",\n",
    "\n",
    "                           \"i'd've\": \"i would have\", \"i'll\": \"i will\",  \"i'll've\": \"i will have\",\"i'm\": \"i am\", \"i've\": \"i have\", \"isn't\": \"is not\", \"it'd\": \"it would\",\n",
    "\n",
    "                           \"it'd've\": \"it would have\", \"it'll\": \"it will\", \"it'll've\": \"it will have\",\"it's\": \"it is\", \"let's\": \"let us\", \"ma'am\": \"madam\",\n",
    "\n",
    "                           \"mayn't\": \"may not\", \"might've\": \"might have\",\"mightn't\": \"might not\",\"mightn't've\": \"might not have\", \"must've\": \"must have\",\n",
    "\n",
    "                           \"mustn't\": \"must not\", \"mustn't've\": \"must not have\", \"needn't\": \"need not\", \"needn't've\": \"need not have\",\"o'clock\": \"of the clock\",\n",
    "\n",
    "                           \"oughtn't\": \"ought not\", \"oughtn't've\": \"ought not have\", \"shan't\": \"shall not\", \"sha'n't\": \"shall not\", \"shan't've\": \"shall not have\",\n",
    "\n",
    "                           \"she'd\": \"she would\", \"she'd've\": \"she would have\", \"she'll\": \"she will\", \"she'll've\": \"she will have\", \"she's\": \"she is\",\n",
    "\n",
    "                           \"should've\": \"should have\", \"shouldn't\": \"should not\", \"shouldn't've\": \"should not have\", \"so've\": \"so have\",\"so's\": \"so as\",\n",
    "\n",
    "                           \"this's\": \"this is\",\"that'd\": \"that would\", \"that'd've\": \"that would have\", \"that's\": \"that is\", \"there'd\": \"there would\",\n",
    "\n",
    "                           \"there'd've\": \"there would have\", \"there's\": \"there is\", \"here's\": \"here is\",\"they'd\": \"they would\", \"they'd've\": \"they would have\",\n",
    "\n",
    "                           \"they'll\": \"they will\", \"they'll've\": \"they will have\", \"they're\": \"they are\", \"they've\": \"they have\", \"to've\": \"to have\",\n",
    "\n",
    "                           \"wasn't\": \"was not\", \"we'd\": \"we would\", \"we'd've\": \"we would have\", \"we'll\": \"we will\", \"we'll've\": \"we will have\", \"we're\": \"we are\",\n",
    "\n",
    "                           \"we've\": \"we have\", \"weren't\": \"were not\", \"what'll\": \"what will\", \"what'll've\": \"what will have\", \"what're\": \"what are\",\n",
    "\n",
    "                           \"what's\": \"what is\", \"what've\": \"what have\", \"when's\": \"when is\", \"when've\": \"when have\", \"where'd\": \"where did\", \"where's\": \"where is\",\n",
    "\n",
    "                           \"where've\": \"where have\", \"who'll\": \"who will\", \"who'll've\": \"who will have\", \"who's\": \"who is\", \"who've\": \"who have\",\n",
    "\n",
    "                           \"why's\": \"why is\", \"why've\": \"why have\", \"will've\": \"will have\", \"won't\": \"will not\", \"won't've\": \"will not have\",\n",
    "\n",
    "                           \"would've\": \"would have\", \"wouldn't\": \"would not\", \"wouldn't've\": \"would not have\", \"y'all\": \"you all\",\n",
    "\n",
    "                           \"y'all'd\": \"you all would\",\"y'all'd've\": \"you all would have\",\"y'all're\": \"you all are\",\"y'all've\": \"you all have\",\n",
    "\n",
    "                           \"you'd\": \"you would\", \"you'd've\": \"you would have\", \"you'll\": \"you will\", \"you'll've\": \"you will have\",\n",
    "\n",
    "                           \"you're\": \"you are\", \"you've\": \"you have\"}"
   ]
  },
  {
   "cell_type": "code",
   "execution_count": 9,
   "metadata": {
    "execution": {
     "iopub.execute_input": "2023-07-30T14:33:50.966119Z",
     "iopub.status.busy": "2023-07-30T14:33:50.965798Z",
     "iopub.status.idle": "2023-07-30T14:33:50.971599Z",
     "shell.execute_reply": "2023-07-30T14:33:50.970562Z",
     "shell.execute_reply.started": "2023-07-30T14:33:50.966092Z"
    }
   },
   "outputs": [],
   "source": [
    "def astrophe_preprocess(text):\n",
    "    l = []\n",
    "    for txt in text.split(\" \"):\n",
    "        if txt in set(astrophe_words.keys()):\n",
    "            l.append(astrophe_words[txt])\n",
    "        \n",
    "        else:\n",
    "            l.append(txt)\n",
    "    \n",
    "    out = \" \".join(l)\n",
    "    return out"
   ]
  },
  {
   "cell_type": "code",
   "execution_count": 10,
   "metadata": {
    "execution": {
     "iopub.execute_input": "2023-07-30T14:33:51.658707Z",
     "iopub.status.busy": "2023-07-30T14:33:51.657924Z",
     "iopub.status.idle": "2023-07-30T14:33:51.667804Z",
     "shell.execute_reply": "2023-07-30T14:33:51.666785Z",
     "shell.execute_reply.started": "2023-07-30T14:33:51.658667Z"
    }
   },
   "outputs": [
    {
     "data": {
      "text/plain": [
       "4984"
      ]
     },
     "execution_count": 10,
     "metadata": {},
     "output_type": "execute_result"
    }
   ],
   "source": [
    "len(df['Text'])"
   ]
  },
  {
   "cell_type": "code",
   "execution_count": 11,
   "metadata": {
    "execution": {
     "iopub.execute_input": "2023-07-30T14:33:52.369356Z",
     "iopub.status.busy": "2023-07-30T14:33:52.369006Z",
     "iopub.status.idle": "2023-07-30T14:33:52.377590Z",
     "shell.execute_reply": "2023-07-30T14:33:52.375527Z",
     "shell.execute_reply.started": "2023-07-30T14:33:52.369327Z"
    }
   },
   "outputs": [
    {
     "name": "stdout",
     "output_type": "stream",
     "text": [
      "10\n",
      "True\n"
     ]
    }
   ],
   "source": [
    "# Code to check if HTML tags are present or not\n",
    "def has_html_tags(text):\n",
    "    # Regular expression pattern to match HTML tags\n",
    "    html_tag_pattern = r'<[^>]+>'\n",
    "    \n",
    "    for i in range(len(text)):\n",
    "        # Search for the first occurrence of an HTML tag in the text\n",
    "        match = re.search(html_tag_pattern, text[i])\n",
    "        \n",
    "        if match is not None:\n",
    "            print(i)\n",
    "            return True\n",
    "    \n",
    "    return False\n",
    "\n",
    "print(has_html_tags(text = df['Text']))"
   ]
  },
  {
   "cell_type": "code",
   "execution_count": 12,
   "metadata": {
    "execution": {
     "iopub.execute_input": "2023-07-30T14:33:53.099001Z",
     "iopub.status.busy": "2023-07-30T14:33:53.098655Z",
     "iopub.status.idle": "2023-07-30T14:33:53.105104Z",
     "shell.execute_reply": "2023-07-30T14:33:53.104168Z",
     "shell.execute_reply.started": "2023-07-30T14:33:53.098973Z"
    }
   },
   "outputs": [
    {
     "data": {
      "text/plain": [
       "\"I don't know if it's the cactus or the tequila or just the unique combination of ingredients, but the flavour of this hot sauce makes it one of a kind!  We picked up a bottle once on a trip we were on and brought it back home with us and were totally blown away!  When we realized that we simply couldn't find it anywhere in our city we were bummed.<br /><br />Now, because of the magic of the internet, we have a case of the sauce and are ecstatic because of it.<br /><br />If you love hot sauce..I mean really love hot sauce, but don't want a sauce that tastelessly burns your throat, grab a bottle of Tequila Picante Gourmet de Inclan.  Just realize that once you taste it, you will never want to use any other sauce.<br /><br />Thank you for the personal, incredible service!\""
      ]
     },
     "execution_count": 12,
     "metadata": {},
     "output_type": "execute_result"
    }
   ],
   "source": [
    "df['Text'][10]"
   ]
  },
  {
   "cell_type": "code",
   "execution_count": 13,
   "metadata": {
    "execution": {
     "iopub.execute_input": "2023-07-30T14:33:53.566332Z",
     "iopub.status.busy": "2023-07-30T14:33:53.565925Z",
     "iopub.status.idle": "2023-07-30T14:33:53.577979Z",
     "shell.execute_reply": "2023-07-30T14:33:53.577072Z",
     "shell.execute_reply.started": "2023-07-30T14:33:53.566300Z"
    }
   },
   "outputs": [
    {
     "data": {
      "text/plain": [
       "\"I don't know if it's the cactus or the tequila or just the unique combination of ingredients, but the flavour of this hot sauce makes it one of a kind!  We picked up a bottle once on a trip we were on and brought it back home with us and were totally blown away!  When we realized that we simply couldn't find it anywhere in our city we were bummed.Now, because of the magic of the internet, we have a case of the sauce and are ecstatic because of it.If you love hot sauce..I mean really love hot sauce, but don't want a sauce that tastelessly burns your throat, grab a bottle of Tequila Picante Gourmet de Inclan.  Just realize that once you taste it, you will never want to use any other sauce.Thank you for the personal, incredible service!\""
      ]
     },
     "execution_count": 13,
     "metadata": {},
     "output_type": "execute_result"
    }
   ],
   "source": [
    "out = BeautifulSoup(df['Text'][10], \"lxml\").text\n",
    "out"
   ]
  },
  {
   "cell_type": "code",
   "execution_count": 14,
   "metadata": {
    "execution": {
     "iopub.execute_input": "2023-07-30T14:33:54.032914Z",
     "iopub.status.busy": "2023-07-30T14:33:54.032461Z",
     "iopub.status.idle": "2023-07-30T14:33:54.040282Z",
     "shell.execute_reply": "2023-07-30T14:33:54.039296Z",
     "shell.execute_reply.started": "2023-07-30T14:33:54.032879Z"
    }
   },
   "outputs": [],
   "source": [
    "def text_preprocess(text):\n",
    "    t = text.lower()\n",
    "    # Getting text from HTML tags\n",
    "    t = BeautifulSoup(t, \"lxml\").text\n",
    "    \n",
    "    # Remove all text within parenthesis\n",
    "    t = re.sub(r'\\([^)]*\\)', '', t)\n",
    "    \n",
    "    # Remove \" \n",
    "    t = re.sub('\"','',t)\n",
    "    \n",
    "    # Change astrophe words\n",
    "    t = astrophe_preprocess(t) \n",
    "    \n",
    "    # Remove 's\n",
    "    t = re.sub(r\"'s\\b\",\"\",t)\n",
    "    \n",
    "    # Replacing all non-alphabetic characters\n",
    "    t = re.sub(\"[^a-zA-Z]\", \" \", t) \n",
    "    \n",
    "    return t.strip()"
   ]
  },
  {
   "cell_type": "code",
   "execution_count": 15,
   "metadata": {
    "execution": {
     "iopub.execute_input": "2023-07-30T14:33:54.504548Z",
     "iopub.status.busy": "2023-07-30T14:33:54.504203Z",
     "iopub.status.idle": "2023-07-30T14:33:57.277536Z",
     "shell.execute_reply": "2023-07-30T14:33:57.276564Z",
     "shell.execute_reply.started": "2023-07-30T14:33:54.504496Z"
    }
   },
   "outputs": [],
   "source": [
    "cleaned_text = []\n",
    "for txt in df['Text']:\n",
    "    cleaned_text.append(text_preprocess(txt))"
   ]
  },
  {
   "cell_type": "code",
   "execution_count": 16,
   "metadata": {
    "execution": {
     "iopub.execute_input": "2023-07-30T14:33:59.243900Z",
     "iopub.status.busy": "2023-07-30T14:33:59.243500Z",
     "iopub.status.idle": "2023-07-30T14:33:59.249906Z",
     "shell.execute_reply": "2023-07-30T14:33:59.248974Z",
     "shell.execute_reply.started": "2023-07-30T14:33:59.243869Z"
    }
   },
   "outputs": [
    {
     "data": {
      "text/plain": [
       "'i do not know if it is the cactus or the tequila or just the unique combination of ingredients  but the flavour of this hot sauce makes it one of a kind   we picked up a bottle once on a trip we were on and brought it back home with us and were totally blown away   when we realized that we simply could not find it anywhere in our city we were bummed now  because of the magic of the internet  we have a case of the sauce and are ecstatic because of it if you love hot sauce  i mean really love hot sauce  but do not want a sauce that tastelessly burns your throat  grab a bottle of tequila picante gourmet de inclan   just realize that once you taste it  you will never want to use any other sauce thank you for the personal  incredible service'"
      ]
     },
     "execution_count": 16,
     "metadata": {},
     "output_type": "execute_result"
    }
   ],
   "source": [
    "cleaned_text[10]"
   ]
  },
  {
   "cell_type": "code",
   "execution_count": 17,
   "metadata": {
    "execution": {
     "iopub.execute_input": "2023-07-30T14:34:00.016920Z",
     "iopub.status.busy": "2023-07-30T14:34:00.016568Z",
     "iopub.status.idle": "2023-07-30T14:34:06.377941Z",
     "shell.execute_reply": "2023-07-30T14:34:06.376651Z",
     "shell.execute_reply.started": "2023-07-30T14:34:00.016891Z"
    }
   },
   "outputs": [
    {
     "name": "stdout",
     "output_type": "stream",
     "text": [
      "the quick brown fox be jump over the lazy dog\n"
     ]
    }
   ],
   "source": [
    "import spacy\n",
    "\n",
    "# Load the English language model for spaCy\n",
    "nlp = spacy.load(\"en_core_web_sm\")\n",
    "\n",
    "def lemmatize_sentence(sentence):\n",
    "    # Process the sentence using spaCy\n",
    "    doc = nlp(sentence)\n",
    "    \n",
    "    # Lemmatize each word in the sentence and join them back\n",
    "    lemmatized_sentence = ' '.join(token.lemma_ for token in doc)\n",
    "    \n",
    "    return lemmatized_sentence\n",
    "\n",
    "# Example\n",
    "sentence = \"The quick brown foxes are jumping over the lazy dogs\"\n",
    "lemmatized_sentence = lemmatize_sentence(sentence)\n",
    "print(lemmatized_sentence)"
   ]
  },
  {
   "cell_type": "code",
   "execution_count": 18,
   "metadata": {
    "execution": {
     "iopub.execute_input": "2023-07-30T14:34:06.380904Z",
     "iopub.status.busy": "2023-07-30T14:34:06.380044Z",
     "iopub.status.idle": "2023-07-30T14:35:27.450093Z",
     "shell.execute_reply": "2023-07-30T14:35:27.449063Z",
     "shell.execute_reply.started": "2023-07-30T14:34:06.380866Z"
    }
   },
   "outputs": [],
   "source": [
    "final_text = []\n",
    "for txt in cleaned_text:\n",
    "    final_text.append(lemmatize_sentence(txt))"
   ]
  },
  {
   "cell_type": "code",
   "execution_count": 19,
   "metadata": {
    "execution": {
     "iopub.execute_input": "2023-07-30T14:35:27.451949Z",
     "iopub.status.busy": "2023-07-30T14:35:27.451490Z",
     "iopub.status.idle": "2023-07-30T14:35:27.460006Z",
     "shell.execute_reply": "2023-07-30T14:35:27.457984Z",
     "shell.execute_reply.started": "2023-07-30T14:35:27.451914Z"
    }
   },
   "outputs": [
    {
     "data": {
      "text/plain": [
       "4984"
      ]
     },
     "execution_count": 19,
     "metadata": {},
     "output_type": "execute_result"
    }
   ],
   "source": [
    "len(final_text)"
   ]
  },
  {
   "cell_type": "markdown",
   "metadata": {},
   "source": [
    "### Summary Preprocessing"
   ]
  },
  {
   "cell_type": "code",
   "execution_count": 20,
   "metadata": {
    "execution": {
     "iopub.execute_input": "2023-07-30T14:35:46.818679Z",
     "iopub.status.busy": "2023-07-30T14:35:46.818319Z",
     "iopub.status.idle": "2023-07-30T14:35:46.826597Z",
     "shell.execute_reply": "2023-07-30T14:35:46.825619Z",
     "shell.execute_reply.started": "2023-07-30T14:35:46.818649Z"
    }
   },
   "outputs": [
    {
     "data": {
      "text/plain": [
       "0                            Good Quality Dog Food\n",
       "1                                Not as Advertised\n",
       "2                            \"Delight\" says it all\n",
       "3                                   Cough Medicine\n",
       "4                                      Great taffy\n",
       "5                                       Nice Taffy\n",
       "6    Great!  Just as good as the expensive brands!\n",
       "7                           Wonderful, tasty taffy\n",
       "8                                       Yay Barley\n",
       "9                                 Healthy Dog Food\n",
       "Name: Summary, dtype: object"
      ]
     },
     "execution_count": 20,
     "metadata": {},
     "output_type": "execute_result"
    }
   ],
   "source": [
    "df['Summary'][:10]"
   ]
  },
  {
   "cell_type": "code",
   "execution_count": 21,
   "metadata": {
    "execution": {
     "iopub.execute_input": "2023-07-30T14:35:47.302725Z",
     "iopub.status.busy": "2023-07-30T14:35:47.302135Z",
     "iopub.status.idle": "2023-07-30T14:35:47.440549Z",
     "shell.execute_reply": "2023-07-30T14:35:47.439688Z",
     "shell.execute_reply.started": "2023-07-30T14:35:47.302688Z"
    }
   },
   "outputs": [],
   "source": [
    "def summary_cleaner(text):\n",
    "    t = re.sub('\"','', text)\n",
    "    t = astrophe_preprocess(t)    \n",
    "    t = re.sub(r\"'s\\b\",\"\",t)\n",
    "    t = re.sub(\"[^a-zA-Z]\", \" \", t)\n",
    "    t = t.lower()\n",
    "    t = t.split()\n",
    "    \n",
    "    newString=''\n",
    "    \n",
    "    for i in t:\n",
    "        if len(i)>1:                                 \n",
    "            newString=newString+i+' '  \n",
    "    \n",
    "    return newString\n",
    "\n",
    "#Call the above function\n",
    "cleaned_summary = []\n",
    "for t in df['Summary']:\n",
    "    cleaned_summary.append(summary_cleaner(t))"
   ]
  },
  {
   "cell_type": "code",
   "execution_count": 22,
   "metadata": {
    "execution": {
     "iopub.execute_input": "2023-07-30T14:35:47.798521Z",
     "iopub.status.busy": "2023-07-30T14:35:47.797921Z",
     "iopub.status.idle": "2023-07-30T14:35:47.822082Z",
     "shell.execute_reply": "2023-07-30T14:35:47.821224Z",
     "shell.execute_reply.started": "2023-07-30T14:35:47.798467Z"
    }
   },
   "outputs": [],
   "source": [
    "df['cleaned_text']= final_text\n",
    "df['cleaned_summary']=cleaned_summary\n",
    "df['cleaned_summary'].replace('', np.nan, inplace=True)\n",
    "df.dropna(axis=0,inplace=True)"
   ]
  },
  {
   "cell_type": "code",
   "execution_count": 23,
   "metadata": {
    "execution": {
     "iopub.execute_input": "2023-07-30T14:35:48.211766Z",
     "iopub.status.busy": "2023-07-30T14:35:48.210854Z",
     "iopub.status.idle": "2023-07-30T14:35:48.220475Z",
     "shell.execute_reply": "2023-07-30T14:35:48.219540Z",
     "shell.execute_reply.started": "2023-07-30T14:35:48.211729Z"
    }
   },
   "outputs": [],
   "source": [
    "df['cleaned_summary'] = df['cleaned_summary'].apply(lambda x : '_START_ '+ x + ' _END_')"
   ]
  },
  {
   "cell_type": "code",
   "execution_count": 24,
   "metadata": {
    "execution": {
     "iopub.execute_input": "2023-07-30T14:35:48.589294Z",
     "iopub.status.busy": "2023-07-30T14:35:48.588706Z",
     "iopub.status.idle": "2023-07-30T14:35:48.596580Z",
     "shell.execute_reply": "2023-07-30T14:35:48.595320Z",
     "shell.execute_reply.started": "2023-07-30T14:35:48.589258Z"
    }
   },
   "outputs": [
    {
     "name": "stdout",
     "output_type": "stream",
     "text": [
      "Review: I have buy several of the vitality can dog food product and have find they all to be of good quality   the product look more like a stew than a process meat and it smell well   my labrador be finicky and she appreciate this product well than   most\n",
      "Summary: _START_ good quality dog food  _END_\n",
      "\n",
      "Review: product arrive label as jumbo salt peanut    the peanut be actually small sized unsalted   not sure if this be an error or if the vendor intend to represent the product as jumbo\n",
      "Summary: _START_ not as advertised  _END_\n",
      "\n",
      "Review: this be a confection that have be around a few century    it be a light   pillowy citrus gelatin with nut    in this case filbert   and it be cut into tiny square and then liberally coat with powdered sugar    and it be a tiny mouthful of heaven    not too chewy   and very flavorful    I highly recommend this yummy treat    if you be familiar with the story of c s   lewis   the lion   the witch   and the wardrobe    this be the treat that seduce edmund into sell out his brother and sister to the witch\n",
      "Summary: _START_ delight says it all  _END_\n",
      "\n",
      "Review: if you be look for the secret ingredient in robitussin I believe I have find it    I get this in addition to the root beer extract I order   and make some cherry soda    the flavor be very medicinal\n",
      "Summary: _START_ cough medicine  _END_\n",
      "\n",
      "Review: great taffy at a great price    there be a wide assortment of yummy taffy    delivery be very quick    if your a taffy lover   this be a deal\n",
      "Summary: _START_ great taffy  _END_\n",
      "\n"
     ]
    }
   ],
   "source": [
    "# Printing few examples of Data\n",
    "for i in range(5):\n",
    "    print(\"Review:\",df['cleaned_text'][i])\n",
    "    print(\"Summary:\",df['cleaned_summary'][i])\n",
    "    print()"
   ]
  },
  {
   "cell_type": "code",
   "execution_count": 25,
   "metadata": {
    "execution": {
     "iopub.execute_input": "2023-07-30T14:35:50.060303Z",
     "iopub.status.busy": "2023-07-30T14:35:50.059960Z",
     "iopub.status.idle": "2023-07-30T14:35:50.608403Z",
     "shell.execute_reply": "2023-07-30T14:35:50.607448Z",
     "shell.execute_reply.started": "2023-07-30T14:35:50.060273Z"
    }
   },
   "outputs": [
    {
     "data": {
      "image/png": "[encoded data removed]",
      "text/plain": [
       "<Figure size 640x480 with 2 Axes>"
      ]
     },
     "metadata": {},
     "output_type": "display_data"
    }
   ],
   "source": [
    "import matplotlib.pyplot as plt\n",
    "text_word_count = []\n",
    "summary_word_count = []\n",
    "\n",
    "# populate the lists with sentence lengths\n",
    "for i in df['cleaned_text']:\n",
    "      text_word_count.append(len(i.split()))\n",
    "\n",
    "for i in df['cleaned_summary']:\n",
    "      summary_word_count.append(len(i.split()))\n",
    "\n",
    "length_df = pd.DataFrame({'text':text_word_count, 'summary':summary_word_count})\n",
    "length_df.hist(bins = 30)\n",
    "plt.show()"
   ]
  },
  {
   "cell_type": "code",
   "execution_count": 26,
   "metadata": {
    "execution": {
     "iopub.execute_input": "2023-07-30T14:35:50.722658Z",
     "iopub.status.busy": "2023-07-30T14:35:50.722342Z",
     "iopub.status.idle": "2023-07-30T14:35:50.728962Z",
     "shell.execute_reply": "2023-07-30T14:35:50.727955Z",
     "shell.execute_reply.started": "2023-07-30T14:35:50.722624Z"
    }
   },
   "outputs": [],
   "source": [
    "max_in_len =400  # Max text length chosen based on distribution\n",
    "max_tr_len =20   # Max summary length"
   ]
  },
  {
   "cell_type": "code",
   "execution_count": 27,
   "metadata": {
    "execution": {
     "iopub.execute_input": "2023-07-30T14:35:51.192632Z",
     "iopub.status.busy": "2023-07-30T14:35:51.192257Z",
     "iopub.status.idle": "2023-07-30T14:35:51.201168Z",
     "shell.execute_reply": "2023-07-30T14:35:51.200121Z",
     "shell.execute_reply.started": "2023-07-30T14:35:51.192604Z"
    }
   },
   "outputs": [],
   "source": [
    "from sklearn.model_selection import train_test_split\n",
    "x_train,x_val,y_train,y_val = train_test_split(df['cleaned_text'],df['cleaned_summary'],test_size=0.2,random_state=0,shuffle=True)"
   ]
  },
  {
   "cell_type": "markdown",
   "metadata": {},
   "source": [
    "# Seq2Seq Model"
   ]
  },
  {
   "cell_type": "markdown",
   "metadata": {},
   "source": [
    "### Text Tokenizer"
   ]
  },
  {
   "cell_type": "code",
   "execution_count": 28,
   "metadata": {
    "execution": {
     "iopub.execute_input": "2023-07-30T14:35:53.642058Z",
     "iopub.status.busy": "2023-07-30T14:35:53.641359Z",
     "iopub.status.idle": "2023-07-30T14:35:54.177740Z",
     "shell.execute_reply": "2023-07-30T14:35:54.176799Z",
     "shell.execute_reply.started": "2023-07-30T14:35:53.642021Z"
    }
   },
   "outputs": [],
   "source": [
    "#train the tokenizer with all the words\n",
    "in_tokenizer = Tokenizer()            # Text tokenizer\n",
    "in_tokenizer.fit_on_texts(x_train)\n",
    "tr_tokenizer = Tokenizer()           # Summary tokenizer\n",
    "tr_tokenizer.fit_on_texts(y_train)\n",
    " \n",
    "#convert text into sequence of integers\n",
    "#where the integer will be the index of that word\n",
    "x_train= in_tokenizer.texts_to_sequences(x_train) \n",
    "y_train= tr_tokenizer.texts_to_sequences(y_train)"
   ]
  },
  {
   "cell_type": "markdown",
   "metadata": {},
   "source": [
    "### Padding and Preprocessing data ( for encoder and decoder )"
   ]
  },
  {
   "cell_type": "code",
   "execution_count": 29,
   "metadata": {
    "execution": {
     "iopub.execute_input": "2023-07-30T14:36:53.310176Z",
     "iopub.status.busy": "2023-07-30T14:36:53.309633Z",
     "iopub.status.idle": "2023-07-30T14:36:53.417663Z",
     "shell.execute_reply": "2023-07-30T14:36:53.415005Z",
     "shell.execute_reply.started": "2023-07-30T14:36:53.310126Z"
    }
   },
   "outputs": [],
   "source": [
    "#pad array of 0's if the length is less than the maximum length \n",
    "en_in_data= pad_sequences(x_train,  maxlen=max_in_len, padding='post') \n",
    "dec_data= pad_sequences(y_train,  maxlen=max_tr_len, padding='post')\n",
    " \n",
    "#decoder input data will not include the last word \n",
    "#i.e. 'eos' in decoder input data\n",
    "dec_in_data = dec_data[:,:-1]\n",
    "#decoder target data will be one time step ahead as it will not include\n",
    "# the first word i.e 'sos'\n",
    "dec_tr_data = dec_data.reshape(len(dec_data),max_tr_len,1)[:,1:]"
   ]
  },
  {
   "cell_type": "code",
   "execution_count": 30,
   "metadata": {
    "execution": {
     "iopub.execute_input": "2023-07-30T14:37:32.161329Z",
     "iopub.status.busy": "2023-07-30T14:37:32.160956Z",
     "iopub.status.idle": "2023-07-30T14:37:32.166751Z",
     "shell.execute_reply": "2023-07-30T14:37:32.165570Z",
     "shell.execute_reply.started": "2023-07-30T14:37:32.161296Z"
    }
   },
   "outputs": [],
   "source": [
    "from tensorflow.keras.layers import Input, LSTM, Embedding, Dense, Concatenate,Bidirectional\n",
    "from tensorflow.keras.models import Model\n",
    "from tensorflow.keras.callbacks import EarlyStopping"
   ]
  },
  {
   "cell_type": "code",
   "execution_count": 31,
   "metadata": {
    "execution": {
     "iopub.execute_input": "2023-07-30T14:37:41.848907Z",
     "iopub.status.busy": "2023-07-30T14:37:41.848563Z",
     "iopub.status.idle": "2023-07-30T14:37:41.853835Z",
     "shell.execute_reply": "2023-07-30T14:37:41.852547Z",
     "shell.execute_reply.started": "2023-07-30T14:37:41.848878Z"
    }
   },
   "outputs": [],
   "source": [
    "num_in_words = len(in_tokenizer.word_index) +1\n",
    "num_tr_words = len(tr_tokenizer.word_index) +1"
   ]
  },
  {
   "cell_type": "code",
   "execution_count": 32,
   "metadata": {
    "execution": {
     "iopub.execute_input": "2023-07-30T14:38:17.091759Z",
     "iopub.status.busy": "2023-07-30T14:38:17.091198Z",
     "iopub.status.idle": "2023-07-30T14:38:24.548466Z",
     "shell.execute_reply": "2023-07-30T14:38:24.547704Z",
     "shell.execute_reply.started": "2023-07-30T14:38:17.091725Z"
    }
   },
   "outputs": [
    {
     "name": "stdout",
     "output_type": "stream",
     "text": [
      "Model: \"model\"\n",
      "__________________________________________________________________________________________________\n",
      " Layer (type)                   Output Shape         Param #     Connected to                     \n",
      "==================================================================================================\n",
      " input_1 (InputLayer)           [(None, 400)]        0           []                               \n",
      "                                                                                                  \n",
      " embedding (Embedding)          (None, 400, 500)     4632500     ['input_1[0][0]']                \n",
      "                                                                                                  \n",
      " lstm (LSTM)                    [(None, 400, 500),   2002000     ['embedding[0][0]']              \n",
      "                                 (None, 500),                                                     \n",
      "                                 (None, 500)]                                                     \n",
      "                                                                                                  \n",
      " input_2 (InputLayer)           [(None, None)]       0           []                               \n",
      "                                                                                                  \n",
      " lstm_1 (LSTM)                  [(None, 400, 500),   2002000     ['lstm[0][0]']                   \n",
      "                                 (None, 500),                                                     \n",
      "                                 (None, 500)]                                                     \n",
      "                                                                                                  \n",
      " embedding_1 (Embedding)        (None, None, 500)    1374000     ['input_2[0][0]']                \n",
      "                                                                                                  \n",
      " lstm_2 (LSTM)                  [(None, 400, 500),   2002000     ['lstm_1[0][0]']                 \n",
      "                                 (None, 500),                                                     \n",
      "                                 (None, 500)]                                                     \n",
      "                                                                                                  \n",
      " lstm_3 (LSTM)                  [(None, None, 500),  2002000     ['embedding_1[0][0]',            \n",
      "                                 (None, 500),                     'lstm_2[0][1]',                 \n",
      "                                 (None, 500)]                     'lstm_2[0][2]']                 \n",
      "                                                                                                  \n",
      " attention (Attention)          (None, None, 500)    0           ['lstm_3[0][0]',                 \n",
      "                                                                  'lstm_2[0][0]']                 \n",
      "                                                                                                  \n",
      " concat_layer1 (Concatenate)    (None, None, 1000)   0           ['lstm_3[0][0]',                 \n",
      "                                                                  'attention[0][0]']              \n",
      "                                                                                                  \n",
      " dense (Dense)                  (None, None, 2748)   2750748     ['concat_layer1[0][0]']          \n",
      "                                                                                                  \n",
      "==================================================================================================\n",
      "Total params: 16,765,248\n",
      "Trainable params: 16,765,248\n",
      "Non-trainable params: 0\n",
      "__________________________________________________________________________________________________\n"
     ]
    }
   ],
   "source": [
    "# Encoder: We will initialize the encoder input tensor using the ‘Input’ object.\n",
    "# The expected shape of the batch will be 100 (maximum input length)-dimensions. Then we will create an \n",
    "#‘Embedding Layer’ which will have the total number of input words as the first argument and a shape of 500 which is the latent(hidden) dimension.\n",
    "from keras import backend as K\n",
    "K.clear_session() \n",
    "latent_dim = 500\n",
    " \n",
    "#create input object of total number of encoder words\n",
    "en_inputs = Input(shape=(max_in_len,)) \n",
    "en_embedding = Embedding(num_in_words , latent_dim)(en_inputs) \n",
    "\n",
    "\n",
    "#create 3 stacked LSTM layer with the shape of hidden dimension for text summarizer using deep learning\n",
    "# The LSTM layer will capture all the contextual information present in the input sequence. \n",
    "# We will return hidden state output and also states i.e. hidden state and cell state after execution of every LSTM layer.\n",
    "#LSTM 1\n",
    "en_lstm1= LSTM(latent_dim, return_state=True, return_sequences=True) \n",
    "en_outputs1, state_h1, state_c1= en_lstm1(en_embedding) \n",
    " \n",
    "#LSTM2\n",
    "en_lstm2= LSTM(latent_dim, return_state=True, return_sequences=True) \n",
    "en_outputs2, state_h2, state_c2= en_lstm2(en_outputs1) \n",
    " \n",
    "#LSTM3\n",
    "en_lstm3= LSTM(latent_dim,return_sequences=True,return_state=True)\n",
    "en_outputs3 , state_h3 , state_c3= en_lstm3(en_outputs2)\n",
    " \n",
    "#encoder states\n",
    "en_states= [state_h3, state_c3]\n",
    "\n",
    "\n",
    "# Decoder: Like Encoder we will initialize the decoder input tensor and then pass it to the only LSTM. \n",
    "# Here, the decoder will also have the initial state where we will pass the hidden state and \n",
    "# cell state values that we have obtained from the encoder’s LSTM layer. \n",
    "dec_inputs = Input(shape=(None,)) \n",
    "dec_emb_layer = Embedding(num_tr_words , latent_dim) \n",
    "dec_embedding = dec_emb_layer(dec_inputs) \n",
    " \n",
    "#initialize decoder's LSTM layer with the output states of encoder\n",
    "dec_lstm = LSTM(latent_dim, return_sequences=True, return_state=True)\n",
    "dec_outputs, *_ = dec_lstm(dec_embedding,initial_state=en_states) \n",
    "\n",
    "\n",
    "#Attention layer: We will pass the encoder and decoder outputs into the attention layer and then \n",
    "#we will concatenate attention layer outputs with the decoder outputs.\n",
    "\n",
    "attention =Attention()\n",
    "attn_out = attention([dec_outputs,en_outputs3])\n",
    " \n",
    "#Concatenate the attention output with the decoder outputs\n",
    "merge=Concatenate(axis=-1, name='concat_layer1')([dec_outputs,attn_out])\n",
    "\n",
    "#We will pass the encoder and decoder outputs into the attention layer and then we will concatenate attention layer outputs with the decoder outputs.\n",
    "\n",
    "#Dense layer (output layer)\n",
    "dec_dense = Dense(num_tr_words, activation='softmax') \n",
    "dec_outputs = dec_dense(merge) \n",
    "\n",
    "\n",
    "#Model class and model summary for text Summarizer\n",
    "model = Model([en_inputs, dec_inputs], dec_outputs) \n",
    "model.summary()"
   ]
  },
  {
   "cell_type": "code",
   "execution_count": 33,
   "metadata": {
    "execution": {
     "iopub.execute_input": "2023-07-30T14:38:28.903722Z",
     "iopub.status.busy": "2023-07-30T14:38:28.903340Z",
     "iopub.status.idle": "2023-07-30T14:38:28.924376Z",
     "shell.execute_reply": "2023-07-30T14:38:28.923470Z",
     "shell.execute_reply.started": "2023-07-30T14:38:28.903690Z"
    }
   },
   "outputs": [],
   "source": [
    "model.compile(optimizer=\"adam\", loss=\"sparse_categorical_crossentropy\", metrics=[\"accuracy\"] ) "
   ]
  },
  {
   "cell_type": "code",
   "execution_count": 34,
   "metadata": {
    "execution": {
     "iopub.execute_input": "2023-07-30T14:38:35.468094Z",
     "iopub.status.busy": "2023-07-30T14:38:35.467736Z",
     "iopub.status.idle": "2023-07-30T14:49:03.562629Z",
     "shell.execute_reply": "2023-07-30T14:49:03.561325Z",
     "shell.execute_reply.started": "2023-07-30T14:38:35.468064Z"
    }
   },
   "outputs": [
    {
     "name": "stdout",
     "output_type": "stream",
     "text": [
      "Epoch 1/50\n",
      "8/8 [==============================] - 23s 2s/step - loss: 4.3230 - accuracy: 0.6360 - val_loss: 1.8078 - val_accuracy: 0.7423\n",
      "Epoch 2/50\n",
      "8/8 [==============================] - 11s 1s/step - loss: 1.7450 - accuracy: 0.7509 - val_loss: 1.6952 - val_accuracy: 0.7599\n",
      "Epoch 3/50\n",
      "8/8 [==============================] - 11s 1s/step - loss: 1.6499 - accuracy: 0.7549 - val_loss: 1.6583 - val_accuracy: 0.7532\n",
      "Epoch 4/50\n",
      "8/8 [==============================] - 11s 1s/step - loss: 1.6125 - accuracy: 0.7592 - val_loss: 1.6213 - val_accuracy: 0.7648\n",
      "Epoch 5/50\n",
      "8/8 [==============================] - 11s 1s/step - loss: 1.5561 - accuracy: 0.7709 - val_loss: 1.5691 - val_accuracy: 0.7674\n",
      "Epoch 6/50\n",
      "8/8 [==============================] - 11s 1s/step - loss: 1.4973 - accuracy: 0.7729 - val_loss: 1.5320 - val_accuracy: 0.7955\n",
      "Epoch 7/50\n",
      "8/8 [==============================] - 11s 1s/step - loss: 1.4636 - accuracy: 0.7967 - val_loss: 1.4992 - val_accuracy: 0.7879\n",
      "Epoch 8/50\n",
      "8/8 [==============================] - 11s 1s/step - loss: 1.4269 - accuracy: 0.7963 - val_loss: 1.4797 - val_accuracy: 0.7983\n",
      "Epoch 9/50\n",
      "8/8 [==============================] - 11s 1s/step - loss: 1.4119 - accuracy: 0.7996 - val_loss: 1.4717 - val_accuracy: 0.7986\n",
      "Epoch 10/50\n",
      "8/8 [==============================] - 11s 1s/step - loss: 1.3998 - accuracy: 0.7995 - val_loss: 1.4685 - val_accuracy: 0.7991\n",
      "Epoch 11/50\n",
      "8/8 [==============================] - 11s 1s/step - loss: 1.4343 - accuracy: 0.7969 - val_loss: 1.4942 - val_accuracy: 0.7975\n",
      "Epoch 12/50\n",
      "8/8 [==============================] - 11s 1s/step - loss: 1.4861 - accuracy: 0.7894 - val_loss: 1.6101 - val_accuracy: 0.7776\n",
      "Epoch 13/50\n",
      "8/8 [==============================] - 11s 1s/step - loss: 1.4668 - accuracy: 0.7848 - val_loss: 1.4859 - val_accuracy: 0.7959\n",
      "Epoch 14/50\n",
      "8/8 [==============================] - 11s 1s/step - loss: 1.3778 - accuracy: 0.7980 - val_loss: 1.4575 - val_accuracy: 0.7987\n",
      "Epoch 15/50\n",
      "8/8 [==============================] - 11s 1s/step - loss: 1.3514 - accuracy: 0.7992 - val_loss: 1.4521 - val_accuracy: 0.7991\n",
      "Epoch 16/50\n",
      "8/8 [==============================] - 11s 1s/step - loss: 1.3433 - accuracy: 0.7976 - val_loss: 1.4568 - val_accuracy: 0.7971\n",
      "Epoch 17/50\n",
      "8/8 [==============================] - 11s 1s/step - loss: 1.3346 - accuracy: 0.7993 - val_loss: 1.4638 - val_accuracy: 0.8003\n",
      "Epoch 18/50\n",
      "8/8 [==============================] - 11s 1s/step - loss: 1.3235 - accuracy: 0.8009 - val_loss: 1.4557 - val_accuracy: 0.8006\n",
      "Epoch 19/50\n",
      "8/8 [==============================] - 11s 1s/step - loss: 1.3153 - accuracy: 0.8005 - val_loss: 1.4561 - val_accuracy: 0.7999\n",
      "Epoch 20/50\n",
      "8/8 [==============================] - 11s 1s/step - loss: 1.3118 - accuracy: 0.8011 - val_loss: 1.4574 - val_accuracy: 0.7998\n",
      "Epoch 21/50\n",
      "8/8 [==============================] - 11s 1s/step - loss: 1.3061 - accuracy: 0.8016 - val_loss: 1.4550 - val_accuracy: 0.8004\n",
      "Epoch 22/50\n",
      "8/8 [==============================] - 11s 1s/step - loss: 1.2970 - accuracy: 0.7975 - val_loss: 1.4587 - val_accuracy: 0.7921\n",
      "Epoch 23/50\n",
      "8/8 [==============================] - 11s 1s/step - loss: 1.2924 - accuracy: 0.7973 - val_loss: 1.4566 - val_accuracy: 0.7999\n",
      "Epoch 24/50\n",
      "8/8 [==============================] - 11s 1s/step - loss: 1.2810 - accuracy: 0.8003 - val_loss: 1.4557 - val_accuracy: 0.7983\n",
      "Epoch 25/50\n",
      "8/8 [==============================] - 11s 1s/step - loss: 1.2724 - accuracy: 0.8009 - val_loss: 1.4566 - val_accuracy: 0.8009\n",
      "Epoch 26/50\n",
      "8/8 [==============================] - 11s 1s/step - loss: 1.2671 - accuracy: 0.8029 - val_loss: 1.4596 - val_accuracy: 0.8016\n",
      "Epoch 27/50\n",
      "8/8 [==============================] - 11s 1s/step - loss: 1.2668 - accuracy: 0.8029 - val_loss: 1.4581 - val_accuracy: 0.8021\n",
      "Epoch 28/50\n",
      "8/8 [==============================] - 11s 1s/step - loss: 1.2569 - accuracy: 0.8029 - val_loss: 1.4585 - val_accuracy: 0.8011\n",
      "Epoch 29/50\n",
      "8/8 [==============================] - 11s 1s/step - loss: 1.2515 - accuracy: 0.8010 - val_loss: 1.4662 - val_accuracy: 0.7977\n",
      "Epoch 30/50\n",
      "8/8 [==============================] - 11s 1s/step - loss: 1.2458 - accuracy: 0.7987 - val_loss: 1.4628 - val_accuracy: 0.7990\n",
      "Epoch 31/50\n",
      "8/8 [==============================] - 11s 1s/step - loss: 1.2340 - accuracy: 0.7993 - val_loss: 1.4615 - val_accuracy: 0.7995\n",
      "Epoch 32/50\n",
      "8/8 [==============================] - 11s 1s/step - loss: 1.2269 - accuracy: 0.8013 - val_loss: 1.4645 - val_accuracy: 0.7982\n",
      "Epoch 33/50\n",
      "8/8 [==============================] - 11s 1s/step - loss: 1.2161 - accuracy: 0.8030 - val_loss: 1.4629 - val_accuracy: 0.8019\n",
      "Epoch 34/50\n",
      "8/8 [==============================] - 11s 1s/step - loss: 1.2062 - accuracy: 0.8039 - val_loss: 1.4610 - val_accuracy: 0.8017\n",
      "Epoch 35/50\n",
      "8/8 [==============================] - 11s 1s/step - loss: 1.2080 - accuracy: 0.8038 - val_loss: 1.4704 - val_accuracy: 0.7996\n",
      "Epoch 36/50\n",
      "8/8 [==============================] - 11s 1s/step - loss: 1.2129 - accuracy: 0.8030 - val_loss: 1.4676 - val_accuracy: 0.8004\n",
      "Epoch 37/50\n",
      "8/8 [==============================] - 11s 1s/step - loss: 1.2020 - accuracy: 0.8020 - val_loss: 1.4609 - val_accuracy: 0.7988\n",
      "Epoch 38/50\n",
      "8/8 [==============================] - 11s 1s/step - loss: 1.1958 - accuracy: 0.8018 - val_loss: 1.4624 - val_accuracy: 0.7991\n",
      "Epoch 39/50\n",
      "8/8 [==============================] - 11s 1s/step - loss: 1.1900 - accuracy: 0.8018 - val_loss: 1.4667 - val_accuracy: 0.7963\n",
      "Epoch 40/50\n",
      "8/8 [==============================] - 11s 1s/step - loss: 1.1901 - accuracy: 0.8013 - val_loss: 1.4760 - val_accuracy: 0.7938\n",
      "Epoch 41/50\n",
      "8/8 [==============================] - 11s 1s/step - loss: 1.2062 - accuracy: 0.8002 - val_loss: 1.4676 - val_accuracy: 0.7971\n",
      "Epoch 42/50\n",
      "8/8 [==============================] - 11s 1s/step - loss: 1.1937 - accuracy: 0.8018 - val_loss: 1.4637 - val_accuracy: 0.7982\n",
      "Epoch 43/50\n",
      "8/8 [==============================] - 11s 1s/step - loss: 1.1789 - accuracy: 0.8032 - val_loss: 1.4576 - val_accuracy: 0.8003\n",
      "Epoch 44/50\n",
      "8/8 [==============================] - 11s 1s/step - loss: 1.1699 - accuracy: 0.8036 - val_loss: 1.4516 - val_accuracy: 0.7995\n",
      "Epoch 45/50\n",
      "8/8 [==============================] - 11s 1s/step - loss: 1.1585 - accuracy: 0.8049 - val_loss: 1.4535 - val_accuracy: 0.8004\n",
      "Epoch 46/50\n",
      "8/8 [==============================] - 11s 1s/step - loss: 1.1466 - accuracy: 0.8063 - val_loss: 1.4516 - val_accuracy: 0.8027\n",
      "Epoch 47/50\n",
      "8/8 [==============================] - 11s 1s/step - loss: 1.1351 - accuracy: 0.8060 - val_loss: 1.4564 - val_accuracy: 0.8007\n",
      "Epoch 48/50\n",
      "8/8 [==============================] - 11s 1s/step - loss: 1.1225 - accuracy: 0.8057 - val_loss: 1.4549 - val_accuracy: 0.7995\n",
      "Epoch 49/50\n",
      "8/8 [==============================] - 11s 1s/step - loss: 1.1074 - accuracy: 0.8056 - val_loss: 1.4540 - val_accuracy: 0.8006\n",
      "Epoch 50/50\n",
      "8/8 [==============================] - 11s 1s/step - loss: 1.0977 - accuracy: 0.8079 - val_loss: 1.4590 - val_accuracy: 0.8033\n"
     ]
    }
   ],
   "source": [
    "history = model.fit( \n",
    "                    [en_in_data, dec_in_data],\n",
    "                    dec_tr_data, \n",
    "                    batch_size=512, \n",
    "                    epochs=50, \n",
    "                    validation_split=0.1,\n",
    "                    )"
   ]
  },
  {
   "cell_type": "code",
   "execution_count": 35,
   "metadata": {
    "execution": {
     "iopub.execute_input": "2023-07-30T14:50:10.849913Z",
     "iopub.status.busy": "2023-07-30T14:50:10.849497Z",
     "iopub.status.idle": "2023-07-30T14:50:11.099372Z",
     "shell.execute_reply": "2023-07-30T14:50:11.098462Z",
     "shell.execute_reply.started": "2023-07-30T14:50:10.849880Z"
    }
   },
   "outputs": [
    {
     "data": {
      "image/png": "[encoded data removed]",
      "text/plain": [
       "<Figure size 640x480 with 1 Axes>"
      ]
     },
     "metadata": {},
     "output_type": "display_data"
    }
   ],
   "source": [
    "import matplotlib.pyplot as plt\n",
    "plt.plot(history.history['loss'], label='train') \n",
    "plt.plot(history.history['val_loss'], label='test') \n",
    "plt.legend() \n",
    "plt.show()"
   ]
  },
  {
   "cell_type": "code",
   "execution_count": 36,
   "metadata": {
    "execution": {
     "iopub.execute_input": "2023-07-30T14:51:02.509939Z",
     "iopub.status.busy": "2023-07-30T14:51:02.509574Z",
     "iopub.status.idle": "2023-07-30T14:51:02.760312Z",
     "shell.execute_reply": "2023-07-30T14:51:02.759399Z",
     "shell.execute_reply.started": "2023-07-30T14:51:02.509911Z"
    }
   },
   "outputs": [
    {
     "data": {
      "image/png": "[encoded data removed]",
      "text/plain": [
       "<Figure size 640x480 with 1 Axes>"
      ]
     },
     "metadata": {},
     "output_type": "display_data"
    }
   ],
   "source": [
    "plt.plot(history.history['accuracy'], label='train') \n",
    "plt.plot(history.history['val_accuracy'], label='test') \n",
    "plt.legend() \n",
    "plt.show()"
   ]
  },
  {
   "cell_type": "code",
   "execution_count": 37,
   "metadata": {
    "execution": {
     "iopub.execute_input": "2023-07-30T14:53:21.794350Z",
     "iopub.status.busy": "2023-07-30T14:53:21.793973Z",
     "iopub.status.idle": "2023-07-30T14:53:37.561914Z",
     "shell.execute_reply": "2023-07-30T14:53:37.560919Z",
     "shell.execute_reply.started": "2023-07-30T14:53:21.794319Z"
    }
   },
   "outputs": [],
   "source": [
    "model.save('/kaggle/working/model_5k')"
   ]
  },
  {
   "cell_type": "markdown",
   "metadata": {},
   "source": [
    "## Inference"
   ]
  },
  {
   "cell_type": "code",
   "execution_count": 38,
   "metadata": {
    "execution": {
     "iopub.execute_input": "2023-07-30T14:55:49.157772Z",
     "iopub.status.busy": "2023-07-30T14:55:49.157038Z",
     "iopub.status.idle": "2023-07-30T14:55:57.332468Z",
     "shell.execute_reply": "2023-07-30T14:55:57.331484Z",
     "shell.execute_reply.started": "2023-07-30T14:55:49.157731Z"
    }
   },
   "outputs": [],
   "source": [
    "from tensorflow.keras.models import Model\n",
    "from tensorflow.keras import models\n",
    "# encoder inference\n",
    "latent_dim=500\n",
    "\n",
    "model = models.load_model(\"/kaggle/working/model_5k\")\n",
    "\n",
    "#construct encoder model from the output of 6 layer i.e.last LSTM layer\n",
    "en_outputs,state_h_enc,state_c_enc = model.layers[6].output\n",
    "#en_states=[state_h_enc,state_c_enc]\n",
    "\n",
    "#add input and state from the layer.\n",
    "en_model = Model(inputs = model.input[0],outputs = [en_outputs, state_h_enc, state_c_enc])\n",
    "\n",
    "###################################################################################################\n",
    "\n",
    "# decoder inference\n",
    "#create Input object for hidden and cell state for decoder shape of layer with hidden or latent dimension\n",
    "dec_state_input_h = Input(shape=(latent_dim,))\n",
    "dec_state_input_c = Input(shape=(latent_dim,))\n",
    "dec_hidden_state_input = Input(shape=(max_in_len,latent_dim))\n",
    "\n",
    "# Get the embeddings of the decoder sequence\n",
    "dec_inputs = model.input[1]\n",
    "dec_emb_layer = model.layers[5]\n",
    "dec_embedding= dec_emb_layer(dec_inputs)\n",
    " \n",
    "# To predict the next word in the sequence, set the initial states to the states from the previous time step\n",
    "dec_lstm = model.layers[7]\n",
    "dec_outputs2, state_h2, state_c2 = dec_lstm(dec_embedding, initial_state=[dec_state_input_h,dec_state_input_c])\n",
    "\n",
    "####################################################################################################\n",
    "\n",
    "#Attention layer\n",
    "attention = model.layers[8]\n",
    "attn_out2 = attention([dec_outputs2,dec_hidden_state_input])\n",
    " \n",
    "merge2 = Concatenate(axis=-1)([dec_outputs2, attn_out2])\n",
    "\n",
    "####################################################################################################\n",
    "\n",
    "#Dense layer\n",
    "dec_dense = model.layers[10]\n",
    "dec_outputs2 = dec_dense(merge2)\n",
    "\n",
    "####################################################################################################\n",
    " \n",
    "# Finally define the Model Class\n",
    "dec_model = Model(\n",
    "                    inputs = [dec_inputs] + [dec_hidden_state_input,dec_state_input_h,dec_state_input_c],\n",
    "                    outputs = [dec_outputs2] + [state_h2, state_c2]\n",
    "                 )"
   ]
  },
  {
   "cell_type": "code",
   "execution_count": 39,
   "metadata": {
    "execution": {
     "iopub.execute_input": "2023-07-30T14:55:57.335115Z",
     "iopub.status.busy": "2023-07-30T14:55:57.334742Z",
     "iopub.status.idle": "2023-07-30T14:55:57.340461Z",
     "shell.execute_reply": "2023-07-30T14:55:57.339357Z",
     "shell.execute_reply.started": "2023-07-30T14:55:57.335071Z"
    }
   },
   "outputs": [],
   "source": [
    "#create a dictionary with a key as index and value as words.\n",
    "reverse_target_word_index = tr_tokenizer.index_word\n",
    "reverse_target_word_index[0]=' '\n",
    "\n",
    "reverse_source_word_index = in_tokenizer.index_word\n",
    "\n",
    "#create a dictionary with a key as words and value as index.\n",
    "target_word_index = tr_tokenizer.word_index"
   ]
  },
  {
   "cell_type": "code",
   "execution_count": 40,
   "metadata": {
    "execution": {
     "iopub.execute_input": "2023-07-30T14:55:59.564985Z",
     "iopub.status.busy": "2023-07-30T14:55:59.564629Z",
     "iopub.status.idle": "2023-07-30T14:55:59.574133Z",
     "shell.execute_reply": "2023-07-30T14:55:59.573194Z",
     "shell.execute_reply.started": "2023-07-30T14:55:59.564956Z"
    }
   },
   "outputs": [],
   "source": [
    "def decode_sequence(input_seq):\n",
    "    #get the encoder output and states by passing the input sequence\n",
    "    en_out, en_h, en_c= en_model.predict(input_seq)\n",
    " \n",
    "    #target sequence with initial word as 'sos'\n",
    "    target_seq = np.zeros((1, 1))\n",
    "    target_seq[0, 0] = target_word_index['start']\n",
    " \n",
    "    #if the iteration reaches the end of text than it will be stop the iteration\n",
    "    stop_condition = False\n",
    "    #append every predicted word in decoded sentence\n",
    "    decoded_sentence = \"\"\n",
    "    while not stop_condition: \n",
    "        #get predicted output, hidden and cell state.\n",
    "        output_words, dec_h, dec_c= dec_model.predict([target_seq] + [en_out,en_h, en_c])\n",
    "        \n",
    "        #get the index and from the dictionary get the word for that index.\n",
    "        word_index = np.argmax(output_words[0, -1, :])\n",
    "        text_word = reverse_target_word_index[word_index]\n",
    "        decoded_sentence += text_word +\" \"\n",
    "        \n",
    "        # Exit condition: either hit max length or find a stop word or last word.\n",
    "        if text_word == \"end\" or len(decoded_sentence) > max_tr_len:\n",
    "            stop_condition = True\n",
    "        \n",
    "        #update target sequence to the current word index since we are in a loop.\n",
    "        target_seq = np.zeros((1, 1))\n",
    "        target_seq[0, 0] = word_index\n",
    "        en_h, en_c = dec_h, dec_c\n",
    "\n",
    "    #return the decoded sentence\n",
    "    return decoded_sentence"
   ]
  },
  {
   "cell_type": "code",
   "execution_count": 41,
   "metadata": {
    "execution": {
     "iopub.execute_input": "2023-07-30T14:57:19.609117Z",
     "iopub.status.busy": "2023-07-30T14:57:19.608737Z",
     "iopub.status.idle": "2023-07-30T14:57:19.616639Z",
     "shell.execute_reply": "2023-07-30T14:57:19.615440Z",
     "shell.execute_reply.started": "2023-07-30T14:57:19.609078Z"
    }
   },
   "outputs": [],
   "source": [
    "def print_output(test_input, test_output):\n",
    "    txt = text_preprocess(test_input)\n",
    "    txt = lemmatize_sentence(txt)\n",
    "    \n",
    "    inp_x= in_tokenizer.texts_to_sequences([txt]) \n",
    "    inp_x= pad_sequences(inp_x,  maxlen=max_in_len, padding='post')\n",
    "    \n",
    "    summary = decode_sequence(inp_x.reshape(1,max_in_len))\n",
    "    \n",
    "    print(\"Review: \" , test_input)\n",
    "    print()\n",
    "    print(\"Original Summary: \", test_output[1:-1])\n",
    "    print()\n",
    "    print(\"Predicted Output: \", summary[:-1])"
   ]
  },
  {
   "cell_type": "code",
   "execution_count": 43,
   "metadata": {
    "execution": {
     "iopub.execute_input": "2023-07-30T14:57:44.942351Z",
     "iopub.status.busy": "2023-07-30T14:57:44.941983Z",
     "iopub.status.idle": "2023-07-30T14:57:44.949853Z",
     "shell.execute_reply": "2023-07-30T14:57:44.948932Z",
     "shell.execute_reply.started": "2023-07-30T14:57:44.942321Z"
    }
   },
   "outputs": [
    {
     "data": {
      "text/plain": [
       "'these be beautiful   smooth spring roll wrapper and on the package label there be a sticker on each one that read   new technology   so   I be figure by the bad review that this company change the way they manufacture their spring roll wrapper and have probably up their quality control as well   I be nervous about order these by the bad review but I be glad I take a chance because these be a bargain compare to some of the other brand will definitely order these again'"
      ]
     },
     "execution_count": 43,
     "metadata": {},
     "output_type": "execute_result"
    }
   ],
   "source": [
    "x_val.iloc[10]"
   ]
  },
  {
   "cell_type": "code",
   "execution_count": 45,
   "metadata": {
    "execution": {
     "iopub.execute_input": "2023-07-30T14:58:31.942580Z",
     "iopub.status.busy": "2023-07-30T14:58:31.942204Z",
     "iopub.status.idle": "2023-07-30T14:58:32.208760Z",
     "shell.execute_reply": "2023-07-30T14:58:32.207645Z",
     "shell.execute_reply.started": "2023-07-30T14:58:31.942547Z"
    }
   },
   "outputs": [
    {
     "name": "stdout",
     "output_type": "stream",
     "text": [
      "1/1 [==============================] - 0s 46ms/step\n",
      "1/1 [==============================] - 0s 22ms/step\n",
      "1/1 [==============================] - 0s 23ms/step\n",
      "Review:  these be beautiful   smooth spring roll wrapper and on the package label there be a sticker on each one that read   new technology   so   I be figure by the bad review that this company change the way they manufacture their spring roll wrapper and have probably up their quality control as well   I be nervous about order these by the bad review but I be glad I take a chance because these be a bargain compare to some of the other brand will definitely order these again\n",
      "\n",
      "Original Summary:  START_ great quality  _END\n",
      "\n",
      "Predicted Output:  great end\n"
     ]
    }
   ],
   "source": [
    "print_output(test_input= x_val.iloc[10], test_output = y_val.iloc[10])"
   ]
  },
  {
   "cell_type": "code",
   "execution_count": 46,
   "metadata": {
    "execution": {
     "iopub.execute_input": "2023-07-30T14:58:56.819204Z",
     "iopub.status.busy": "2023-07-30T14:58:56.818828Z",
     "iopub.status.idle": "2023-07-30T14:58:57.309171Z",
     "shell.execute_reply": "2023-07-30T14:58:57.308191Z",
     "shell.execute_reply.started": "2023-07-30T14:58:56.819173Z"
    }
   },
   "outputs": [
    {
     "name": "stdout",
     "output_type": "stream",
     "text": [
      "1/1 [==============================] - 0s 43ms/step\n",
      "1/1 [==============================] - 0s 28ms/step\n",
      "1/1 [==============================] - 0s 21ms/step\n",
      "1/1 [==============================] - 0s 22ms/step\n",
      "1/1 [==============================] - 0s 23ms/step\n",
      "1/1 [==============================] - 0s 21ms/step\n",
      "Review:  this stevia be the good tasting we have ever try   it also mix into beverage more thoroughly than some other the service from this buyer be prompt   the product arrive on time and in excellent condition   would order from they again   and recommend they to other linda blyth\n",
      "\n",
      "Original Summary:  START_ the best stevia  _END\n",
      "\n",
      "Predicted Output:  great for the money end\n"
     ]
    }
   ],
   "source": [
    "print_output(test_input= x_val.iloc[25], test_output = y_val.iloc[25])"
   ]
  },
  {
   "cell_type": "code",
   "execution_count": null,
   "metadata": {},
   "outputs": [],
   "source": []
  }
 ],
 "metadata": {
  "kernelspec": {
   "display_name": "Python 3 (ipykernel)",
   "language": "python",
   "name": "python3"
  },
  "language_info": {
   "codemirror_mode": {
    "name": "ipython",
    "version": 3
   },
   "file_extension": ".py",
   "mimetype": "text/x-python",
   "name": "python",
   "nbconvert_exporter": "python",
   "pygments_lexer": "ipython3",
   "version": "3.10.9"
  }
 },
 "nbformat": 4,
 "nbformat_minor": 4
}
